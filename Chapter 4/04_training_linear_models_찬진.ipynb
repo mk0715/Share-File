{
 "cells": [
  {
   "cell_type": "markdown",
   "id": "34d9f2a0",
   "metadata": {},
   "source": [
    "### 모듈 불러오기"
   ]
  },
  {
   "cell_type": "code",
   "execution_count": 1,
   "id": "224f9140",
   "metadata": {},
   "outputs": [],
   "source": [
    "import pandas as pd\n",
    "import numpy as np\n",
    "import os\n",
    "import urllib.request\n",
    "\n",
    "# 노트북 실행 결과를 동일하게 유지하기 위해\n",
    "np.random.seed(42)\n",
    "\n",
    "# 깔끔한 그래프 출력을 위해\n",
    "%matplotlib inline\n",
    "import matplotlib as mpl\n",
    "import matplotlib.pyplot as plt\n",
    "mpl.rc('axes', labelsize=14)\n",
    "mpl.rc('xtick', labelsize=12)\n",
    "mpl.rc('ytick', labelsize=12)\n",
    "\n",
    "# Waeing\n",
    "import sys, warnings\n",
    "if not sys.warnoptions: warnings.simplefilter(\"ignore\")"
   ]
  },
  {
   "cell_type": "markdown",
   "id": "34039432",
   "metadata": {},
   "source": [
    "- 비용함수를 최소화하는 지점을 찾는 방법\n"
   ]
  },
  {
   "cell_type": "markdown",
   "id": "7f3eca11",
   "metadata": {},
   "source": [
    "Gradient Descent  \n",
    "    - Batch Gradient Descent(BGD)   \n",
    "    - Stochastic Gradient Descent(SGD)  \n",
    "    - Mini Batch Gradient Descent"
   ]
  },
  {
   "cell_type": "markdown",
   "id": "63ca48e7",
   "metadata": {},
   "source": [
    "## 선형회귀"
   ]
  },
  {
   "cell_type": "markdown",
   "id": "b60eed20",
   "metadata": {
    "id": "1nwohAke3Grl"
   },
   "source": [
    "### Gradient Descent (경사하강법)"
   ]
  },
  {
   "cell_type": "code",
   "execution_count": 2,
   "id": "cfcc0141",
   "metadata": {
    "execution": {
     "iopub.execute_input": "2021-11-03T03:33:33.755847Z",
     "iopub.status.busy": "2021-11-03T03:33:33.755208Z",
     "iopub.status.idle": "2021-11-03T03:33:33.757085Z",
     "shell.execute_reply": "2021-11-03T03:33:33.757544Z"
    },
    "id": "GTHLWV2F3Grm"
   },
   "outputs": [],
   "source": [
    "# 데이터 생성\n",
    "X = 2 * np.random.rand(100, 1)\n",
    "y = 4 + 3 * X + np.random.randn(100, 1)"
   ]
  },
  {
   "cell_type": "code",
   "execution_count": 3,
   "id": "34cfa8ca",
   "metadata": {
    "execution": {
     "iopub.execute_input": "2021-11-03T03:33:33.775193Z",
     "iopub.status.busy": "2021-11-03T03:33:33.774529Z",
     "iopub.status.idle": "2021-11-03T03:33:34.434851Z",
     "shell.execute_reply": "2021-11-03T03:33:34.435548Z"
    },
    "id": "tYOUBRvD3Grm",
    "outputId": "4bea01d7-d8ff-40c6-c0a1-3ecd7e01153c",
    "scrolled": true
   },
   "outputs": [
    {
     "data": {
      "image/png": "[encoded data removed]",
      "text/plain": [
       "<Figure size 432x288 with 1 Axes>"
      ]
     },
     "metadata": {
      "needs_background": "light"
     },
     "output_type": "display_data"
    }
   ],
   "source": [
    "# 데이터 확인\n",
    "plt.plot(X, y, \"b.\")\n",
    "plt.xlabel(\"$x_1$\", fontsize=18)\n",
    "plt.ylabel(\"$y$\", rotation=0, fontsize=18)\n",
    "plt.axis([0, 2, 0, 15])\n",
    "plt.show()"
   ]
  },
  {
   "cell_type": "code",
   "execution_count": 4,
   "id": "065300bc",
   "metadata": {},
   "outputs": [
    {
     "data": {
      "text/plain": [
       "(array([4.24365286]), array([2.8250878]))"
      ]
     },
     "execution_count": 4,
     "metadata": {},
     "output_type": "execute_result"
    }
   ],
   "source": [
    "from sklearn.linear_model import SGDRegressor\n",
    "\n",
    "sgd_reg = SGDRegressor(max_iter=1000, # epoch\n",
    "                       tol=1e-3, # 한epoch당 설정값보다 적게 손실이 줄어들때까지 실행\n",
    "                       penalty=None, # 규제설정 ex) 'l1', 'l2'  -> 비용함수에 규제항을 더해줌\n",
    "                       eta0=0.1, # Lrarning rate\n",
    "                       random_state=42)\n",
    "# 학습\n",
    "sgd_reg.fit(X, y.ravel())\n",
    "# 확인\n",
    "sgd_reg.intercept_, sgd_reg.coef_"
   ]
  },
  {
   "cell_type": "markdown",
   "id": "2ac4756a",
   "metadata": {},
   "source": [
    "## 다항회귀"
   ]
  },
  {
   "cell_type": "code",
   "execution_count": 5,
   "id": "f413a358",
   "metadata": {
    "execution": {
     "iopub.execute_input": "2021-11-03T03:33:37.890685Z",
     "iopub.status.busy": "2021-11-03T03:33:37.870867Z",
     "iopub.status.idle": "2021-11-03T03:33:38.297547Z",
     "shell.execute_reply": "2021-11-03T03:33:38.296963Z"
    },
    "id": "Z8b3q6He3Grv",
    "outputId": "65e54699-e5b5-465c-b03f-4f3e7f31cf8e"
   },
   "outputs": [
    {
     "data": {
      "image/png": "[encoded data removed]",
      "text/plain": [
       "<Figure size 432x288 with 1 Axes>"
      ]
     },
     "metadata": {
      "needs_background": "light"
     },
     "output_type": "display_data"
    }
   ],
   "source": [
    "# 데이터 생성\n",
    "m = 100\n",
    "X = 6 * np.random.rand(m, 1) - 3\n",
    "y = 0.5 * X**2 + X + 2 + np.random.randn(m, 1)\n",
    "# 데이터확인\n",
    "plt.plot(X, y, \"b.\")\n",
    "plt.xlabel(\"$x_1$\", fontsize=18)\n",
    "plt.ylabel(\"$y$\", rotation=0, fontsize=18)\n",
    "plt.axis([-3, 3, 0, 10])\n",
    "plt.show()"
   ]
  },
  {
   "cell_type": "markdown",
   "id": "d8058599",
   "metadata": {},
   "source": [
    "    - LinearRegression 모델은 선형모델이지만 PolynomialFeatures를 통하여 특성을 추가하여 비선형으로 예측할 수도 있음"
   ]
  },
  {
   "cell_type": "code",
   "execution_count": 6,
   "id": "00ab6a3d",
   "metadata": {},
   "outputs": [],
   "source": [
    "# 학습 여부를 그래프를 통해서 확인하는 방법\n",
    "## 오버피팅 언더피팅을 눈으로 보고 확인할 수 있는 방법\n",
    "from sklearn.metrics import mean_squared_error\n",
    "from sklearn.model_selection import train_test_split\n",
    "\n",
    "def plot_learning_curves(model, X, y):\n",
    "    X_train, X_val, y_train, y_val = train_test_split(X, y, test_size=0.2, random_state=10)\n",
    "    train_errors, val_errors = [], []\n",
    "    for m in range(1, len(X_train) + 1):\n",
    "        model.fit(X_train[:m], y_train[:m])\n",
    "        y_train_predict = model.predict(X_train[:m])\n",
    "        y_val_predict = model.predict(X_val)\n",
    "        train_errors.append(mean_squared_error(y_train[:m], y_train_predict))\n",
    "        val_errors.append(mean_squared_error(y_val, y_val_predict))\n",
    "\n",
    "    plt.plot(np.sqrt(train_errors), \"r-+\", linewidth=2, label=\"train\")\n",
    "    plt.plot(np.sqrt(val_errors), \"b-\", linewidth=3, label=\"val\")\n",
    "    plt.legend(loc=\"upper right\", fontsize=14)\n",
    "    plt.xlabel(\"Training set size\", fontsize=14)\n",
    "    plt.ylabel(\"RMSE\", fontsize=14)"
   ]
  },
  {
   "cell_type": "code",
   "execution_count": 7,
   "id": "420c8ab7",
   "metadata": {},
   "outputs": [
    {
     "data": {
      "image/png": "[encoded data removed]",
      "text/plain": [
       "<Figure size 432x288 with 1 Axes>"
      ]
     },
     "metadata": {
      "needs_background": "light"
     },
     "output_type": "display_data"
    }
   ],
   "source": [
    "# 적용\n",
    "from sklearn.linear_model import LinearRegression\n",
    "\n",
    "lin_reg = LinearRegression()\n",
    "plot_learning_curves(lin_reg, X, y)\n",
    "plt.axis([0, 80, 0, 3])    # 축을 맞춰줌\n",
    "plt.show()"
   ]
  },
  {
   "cell_type": "markdown",
   "id": "b4933b73",
   "metadata": {},
   "source": [
    "    - train과 valid모두 오차 값이 크게 형성되어있는 것을 보았을 때, 과소적합 된 것이라고 판단됨  "
   ]
  },
  {
   "cell_type": "code",
   "execution_count": 8,
   "id": "b3ca77f6",
   "metadata": {},
   "outputs": [
    {
     "data": {
      "image/png": "[encoded data removed]",
      "text/plain": [
       "<Figure size 432x288 with 1 Axes>"
      ]
     },
     "metadata": {
      "needs_background": "light"
     },
     "output_type": "display_data"
    }
   ],
   "source": [
    "# 다른 적용방법\n",
    "from sklearn.preprocessing import PolynomialFeatures\n",
    "from sklearn.pipeline import Pipeline\n",
    "\n",
    "polynomial_regression = Pipeline([\n",
    "        (\"poly_features\", PolynomialFeatures(degree=10, include_bias=False)), # 데이터에 특성을 추가해줌 (파라미터를 조정해 10차원으로 만들어줌)\n",
    "        (\"lin_reg\", LinearRegression()),\n",
    "    ])\n",
    "\n",
    "plot_learning_curves(polynomial_regression, X, y)\n",
    "plt.axis([0, 80, 0, 3])\n",
    "plt.show()"
   ]
  },
  {
   "cell_type": "markdown",
   "id": "8df875c5",
   "metadata": {},
   "source": [
    "    - 그래프를 보았을 때, train의 오차가 훨씬 작고, train과 valid의 오차의 차이가 큰 것을 보았을 때, 과대적합된 것을 알 수 있음. "
   ]
  },
  {
   "cell_type": "markdown",
   "id": "242b15f8",
   "metadata": {},
   "source": [
    "## 규제가 있는 선형모델"
   ]
  },
  {
   "cell_type": "markdown",
   "id": "fe7d4843",
   "metadata": {},
   "source": [
    "    - sklearn은 full batch gradient descent로 학습. 즉, SGD와 학습 방법이 다를수도 있음 -> 고려해볼만함"
   ]
  },
  {
   "cell_type": "markdown",
   "id": "97f7d121",
   "metadata": {},
   "source": [
    "- Ridge"
   ]
  },
  {
   "cell_type": "code",
   "execution_count": 9,
   "id": "7445f585",
   "metadata": {},
   "outputs": [
    {
     "data": {
      "text/plain": [
       "array([[4.78524575]])"
      ]
     },
     "execution_count": 9,
     "metadata": {},
     "output_type": "execute_result"
    }
   ],
   "source": [
    "from sklearn.linear_model import Ridge\n",
    "ridge_reg = Ridge(alpha=1, # 모델의 자유도 조정 \n",
    "                  solver=\"cholesky\", \n",
    "                  random_state=42)\n",
    "# 학습\n",
    "ridge_reg.fit(X, y)\n",
    "# 확인\n",
    "ridge_reg.predict([[1.5]])"
   ]
  },
  {
   "cell_type": "code",
   "execution_count": 10,
   "id": "156a3154",
   "metadata": {},
   "outputs": [
    {
     "data": {
      "text/plain": [
       "array([4.76586655])"
      ]
     },
     "execution_count": 10,
     "metadata": {},
     "output_type": "execute_result"
    }
   ],
   "source": [
    "# ridge를 SGD로 사용\n",
    "sgd_reg = SGDRegressor(penalty=\"l2\", max_iter=1000, tol=1e-3, random_state=42)\n",
    "sgd_reg.fit(X, y.ravel())\n",
    "sgd_reg.predict([[1.5]])"
   ]
  },
  {
   "cell_type": "markdown",
   "id": "096b3101",
   "metadata": {},
   "source": [
    "- Lasso"
   ]
  },
  {
   "cell_type": "code",
   "execution_count": 11,
   "id": "32eb42c3",
   "metadata": {},
   "outputs": [
    {
     "data": {
      "text/plain": [
       "array([4.73256717])"
      ]
     },
     "execution_count": 11,
     "metadata": {},
     "output_type": "execute_result"
    }
   ],
   "source": [
    "from sklearn.linear_model import Lasso\n",
    "lasso_reg = Lasso(alpha=0.1)\n",
    "lasso_reg.fit(X, y)\n",
    "lasso_reg.predict([[1.5]])"
   ]
  },
  {
   "cell_type": "code",
   "execution_count": 12,
   "id": "20ec9a91",
   "metadata": {},
   "outputs": [
    {
     "data": {
      "text/plain": [
       "array([4.76585786])"
      ]
     },
     "execution_count": 12,
     "metadata": {},
     "output_type": "execute_result"
    }
   ],
   "source": [
    "# lasso를 SGD로 사용\n",
    "sgd_reg = SGDRegressor(penalty=\"l1\", max_iter=1000, tol=1e-3, random_state=42)\n",
    "sgd_reg.fit(X, y.ravel())\n",
    "sgd_reg.predict([[1.5]])"
   ]
  },
  {
   "cell_type": "markdown",
   "id": "52082750",
   "metadata": {},
   "source": [
    "- Elasticnet"
   ]
  },
  {
   "cell_type": "code",
   "execution_count": 13,
   "id": "b334cd84",
   "metadata": {},
   "outputs": [
    {
     "data": {
      "text/plain": [
       "array([4.73755097])"
      ]
     },
     "execution_count": 13,
     "metadata": {},
     "output_type": "execute_result"
    }
   ],
   "source": [
    "from sklearn.linear_model import ElasticNet\n",
    "elastic_net = ElasticNet(alpha=0.1, # 모델의 자유도 \n",
    "                         l1_ratio=0.5, # ridge와 lasso의 혼합정도\n",
    "                         random_state=42)\n",
    "elastic_net.fit(X, y)\n",
    "elastic_net.predict([[1.5]])"
   ]
  },
  {
   "cell_type": "markdown",
   "id": "b76f3b02",
   "metadata": {},
   "source": [
    "    - Lasso는 l1_ratio=1.0인 ElasticNet을 사용 -> 실제로 학습한 값도 똑같음  \n",
    "      하지만 l1_ratio=0인 Elasticnet은 Ridge와 다름"
   ]
  },
  {
   "cell_type": "markdown",
   "id": "09f4b7ed",
   "metadata": {},
   "source": [
    "# 타이타닉 데이터에 적용"
   ]
  },
  {
   "cell_type": "markdown",
   "id": "5443525e",
   "metadata": {
    "id": "9xMX3msXgE7G"
   },
   "source": [
    "속성은 다음과 같은 의미를 가집니다:\n",
    "* **PassengerId**: 각 승객의 고유 식별자.\n",
    "* **Survived**: 타깃입니다. 0은 생존하지 못한 것이고 1은 생존을 의미합니다.\n",
    "* **Pclass**: 승객 등급. 1, 2, 3등석.\n",
    "* **Name**, **Sex**, **Age**: 이름 그대로 의미입니다.\n",
    "* **SibSp**: 함께 탑승한 형제, 배우자의 수.\n",
    "* **Parch**: 함께 탑승한 자녀, 부모의 수.\n",
    "* **Ticket**: 티켓 아이디\n",
    "* **Fare**: 티켓 요금 (파운드)\n",
    "* **Cabin**: 객실 번호\n",
    "* **Embarked**: 승객이 탑승한 곳. C(Cherbourg), Q(Queenstown), S(Southampton)"
   ]
  },
  {
   "cell_type": "code",
   "execution_count": 14,
   "id": "5f3ec4a0",
   "metadata": {
    "execution": {
     "iopub.execute_input": "2021-11-03T04:28:14.270508Z",
     "iopub.status.busy": "2021-11-03T04:28:14.269925Z",
     "iopub.status.idle": "2021-11-03T04:28:14.272805Z",
     "shell.execute_reply": "2021-11-03T04:28:14.272004Z"
    },
    "id": "3wTErhGDgE7F"
   },
   "outputs": [],
   "source": [
    "TITANIC_PATH = os.path.join(\"datasets\", \"titanic\")\n",
    "DOWNLOAD_URL = \"https://raw.githubusercontent.com/rickiepark/handson-ml2/master/datasets/titanic/\"\n",
    "\n",
    "def fetch_titanic_data(url=DOWNLOAD_URL, path=TITANIC_PATH):\n",
    "    if not os.path.isdir(path):\n",
    "        os.makedirs(path)\n",
    "    for filename in (\"train.csv\", \"test.csv\"):\n",
    "        filepath = os.path.join(path, filename)\n",
    "        if not os.path.isfile(filepath):\n",
    "            print(\"Downloading\", filename)\n",
    "            urllib.request.urlretrieve(url + filename, filepath)\n",
    "\n",
    "fetch_titanic_data()   "
   ]
  },
  {
   "cell_type": "code",
   "execution_count": 15,
   "id": "561b27d9",
   "metadata": {
    "execution": {
     "iopub.execute_input": "2021-11-03T04:28:14.276998Z",
     "iopub.status.busy": "2021-11-03T04:28:14.276427Z",
     "iopub.status.idle": "2021-11-03T04:28:14.452746Z",
     "shell.execute_reply": "2021-11-03T04:28:14.451925Z"
    },
    "id": "D_dGniMIgE7F"
   },
   "outputs": [],
   "source": [
    "def load_titanic_data(filename, titanic_path=TITANIC_PATH):\n",
    "    csv_path = os.path.join(titanic_path, filename)\n",
    "    return pd.read_csv(csv_path)"
   ]
  },
  {
   "cell_type": "code",
   "execution_count": 16,
   "id": "416e18f0",
   "metadata": {
    "execution": {
     "iopub.execute_input": "2021-11-03T04:28:14.457532Z",
     "iopub.status.busy": "2021-11-03T04:28:14.456518Z",
     "iopub.status.idle": "2021-11-03T04:28:14.467409Z",
     "shell.execute_reply": "2021-11-03T04:28:14.466907Z"
    },
    "id": "qUXYtuzjgE7G"
   },
   "outputs": [],
   "source": [
    "# `PassengerId` 열을 인덱스 열로 지정\n",
    "train = load_titanic_data(\"train.csv\").set_index(\"PassengerId\")\n",
    "test = load_titanic_data(\"test.csv\").set_index(\"PassengerId\")"
   ]
  },
  {
   "cell_type": "code",
   "execution_count": 17,
   "id": "b1abcd07",
   "metadata": {
    "scrolled": false
   },
   "outputs": [
    {
     "data": {
      "text/html": [
       "<div>\n",
       "<style scoped>\n",
       "    .dataframe tbody tr th:only-of-type {\n",
       "        vertical-align: middle;\n",
       "    }\n",
       "\n",
       "    .dataframe tbody tr th {\n",
       "        vertical-align: top;\n",
       "    }\n",
       "\n",
       "    .dataframe thead th {\n",
       "        text-align: right;\n",
       "    }\n",
       "</style>\n",
       "<table border=\"1\" class=\"dataframe\">\n",
       "  <thead>\n",
       "    <tr style=\"text-align: right;\">\n",
       "      <th></th>\n",
       "      <th>Survived</th>\n",
       "      <th>Pclass</th>\n",
       "      <th>Name</th>\n",
       "      <th>Sex</th>\n",
       "      <th>Age</th>\n",
       "      <th>SibSp</th>\n",
       "      <th>Parch</th>\n",
       "      <th>Ticket</th>\n",
       "      <th>Fare</th>\n",
       "      <th>Cabin</th>\n",
       "      <th>Embarked</th>\n",
       "    </tr>\n",
       "    <tr>\n",
       "      <th>PassengerId</th>\n",
       "      <th></th>\n",
       "      <th></th>\n",
       "      <th></th>\n",
       "      <th></th>\n",
       "      <th></th>\n",
       "      <th></th>\n",
       "      <th></th>\n",
       "      <th></th>\n",
       "      <th></th>\n",
       "      <th></th>\n",
       "      <th></th>\n",
       "    </tr>\n",
       "  </thead>\n",
       "  <tbody>\n",
       "    <tr>\n",
       "      <th>1</th>\n",
       "      <td>0</td>\n",
       "      <td>3</td>\n",
       "      <td>Braund, Mr. Owen Harris</td>\n",
       "      <td>male</td>\n",
       "      <td>22.0</td>\n",
       "      <td>1</td>\n",
       "      <td>0</td>\n",
       "      <td>A/5 21171</td>\n",
       "      <td>7.2500</td>\n",
       "      <td>NaN</td>\n",
       "      <td>S</td>\n",
       "    </tr>\n",
       "    <tr>\n",
       "      <th>2</th>\n",
       "      <td>1</td>\n",
       "      <td>1</td>\n",
       "      <td>Cumings, Mrs. John Bradley (Florence Briggs Th...</td>\n",
       "      <td>female</td>\n",
       "      <td>38.0</td>\n",
       "      <td>1</td>\n",
       "      <td>0</td>\n",
       "      <td>PC 17599</td>\n",
       "      <td>71.2833</td>\n",
       "      <td>C85</td>\n",
       "      <td>C</td>\n",
       "    </tr>\n",
       "    <tr>\n",
       "      <th>3</th>\n",
       "      <td>1</td>\n",
       "      <td>3</td>\n",
       "      <td>Heikkinen, Miss. Laina</td>\n",
       "      <td>female</td>\n",
       "      <td>26.0</td>\n",
       "      <td>0</td>\n",
       "      <td>0</td>\n",
       "      <td>STON/O2. 3101282</td>\n",
       "      <td>7.9250</td>\n",
       "      <td>NaN</td>\n",
       "      <td>S</td>\n",
       "    </tr>\n",
       "    <tr>\n",
       "      <th>4</th>\n",
       "      <td>1</td>\n",
       "      <td>1</td>\n",
       "      <td>Futrelle, Mrs. Jacques Heath (Lily May Peel)</td>\n",
       "      <td>female</td>\n",
       "      <td>35.0</td>\n",
       "      <td>1</td>\n",
       "      <td>0</td>\n",
       "      <td>113803</td>\n",
       "      <td>53.1000</td>\n",
       "      <td>C123</td>\n",
       "      <td>S</td>\n",
       "    </tr>\n",
       "    <tr>\n",
       "      <th>5</th>\n",
       "      <td>0</td>\n",
       "      <td>3</td>\n",
       "      <td>Allen, Mr. William Henry</td>\n",
       "      <td>male</td>\n",
       "      <td>35.0</td>\n",
       "      <td>0</td>\n",
       "      <td>0</td>\n",
       "      <td>373450</td>\n",
       "      <td>8.0500</td>\n",
       "      <td>NaN</td>\n",
       "      <td>S</td>\n",
       "    </tr>\n",
       "    <tr>\n",
       "      <th>...</th>\n",
       "      <td>...</td>\n",
       "      <td>...</td>\n",
       "      <td>...</td>\n",
       "      <td>...</td>\n",
       "      <td>...</td>\n",
       "      <td>...</td>\n",
       "      <td>...</td>\n",
       "      <td>...</td>\n",
       "      <td>...</td>\n",
       "      <td>...</td>\n",
       "      <td>...</td>\n",
       "    </tr>\n",
       "    <tr>\n",
       "      <th>887</th>\n",
       "      <td>0</td>\n",
       "      <td>2</td>\n",
       "      <td>Montvila, Rev. Juozas</td>\n",
       "      <td>male</td>\n",
       "      <td>27.0</td>\n",
       "      <td>0</td>\n",
       "      <td>0</td>\n",
       "      <td>211536</td>\n",
       "      <td>13.0000</td>\n",
       "      <td>NaN</td>\n",
       "      <td>S</td>\n",
       "    </tr>\n",
       "    <tr>\n",
       "      <th>888</th>\n",
       "      <td>1</td>\n",
       "      <td>1</td>\n",
       "      <td>Graham, Miss. Margaret Edith</td>\n",
       "      <td>female</td>\n",
       "      <td>19.0</td>\n",
       "      <td>0</td>\n",
       "      <td>0</td>\n",
       "      <td>112053</td>\n",
       "      <td>30.0000</td>\n",
       "      <td>B42</td>\n",
       "      <td>S</td>\n",
       "    </tr>\n",
       "    <tr>\n",
       "      <th>889</th>\n",
       "      <td>0</td>\n",
       "      <td>3</td>\n",
       "      <td>Johnston, Miss. Catherine Helen \"Carrie\"</td>\n",
       "      <td>female</td>\n",
       "      <td>NaN</td>\n",
       "      <td>1</td>\n",
       "      <td>2</td>\n",
       "      <td>W./C. 6607</td>\n",
       "      <td>23.4500</td>\n",
       "      <td>NaN</td>\n",
       "      <td>S</td>\n",
       "    </tr>\n",
       "    <tr>\n",
       "      <th>890</th>\n",
       "      <td>1</td>\n",
       "      <td>1</td>\n",
       "      <td>Behr, Mr. Karl Howell</td>\n",
       "      <td>male</td>\n",
       "      <td>26.0</td>\n",
       "      <td>0</td>\n",
       "      <td>0</td>\n",
       "      <td>111369</td>\n",
       "      <td>30.0000</td>\n",
       "      <td>C148</td>\n",
       "      <td>C</td>\n",
       "    </tr>\n",
       "    <tr>\n",
       "      <th>891</th>\n",
       "      <td>0</td>\n",
       "      <td>3</td>\n",
       "      <td>Dooley, Mr. Patrick</td>\n",
       "      <td>male</td>\n",
       "      <td>32.0</td>\n",
       "      <td>0</td>\n",
       "      <td>0</td>\n",
       "      <td>370376</td>\n",
       "      <td>7.7500</td>\n",
       "      <td>NaN</td>\n",
       "      <td>Q</td>\n",
       "    </tr>\n",
       "  </tbody>\n",
       "</table>\n",
       "<p>891 rows × 11 columns</p>\n",
       "</div>"
      ],
      "text/plain": [
       "             Survived  Pclass  \\\n",
       "PassengerId                     \n",
       "1                   0       3   \n",
       "2                   1       1   \n",
       "3                   1       3   \n",
       "4                   1       1   \n",
       "5                   0       3   \n",
       "...               ...     ...   \n",
       "887                 0       2   \n",
       "888                 1       1   \n",
       "889                 0       3   \n",
       "890                 1       1   \n",
       "891                 0       3   \n",
       "\n",
       "                                                          Name     Sex   Age  \\\n",
       "PassengerId                                                                    \n",
       "1                                      Braund, Mr. Owen Harris    male  22.0   \n",
       "2            Cumings, Mrs. John Bradley (Florence Briggs Th...  female  38.0   \n",
       "3                                       Heikkinen, Miss. Laina  female  26.0   \n",
       "4                 Futrelle, Mrs. Jacques Heath (Lily May Peel)  female  35.0   \n",
       "5                                     Allen, Mr. William Henry    male  35.0   \n",
       "...                                                        ...     ...   ...   \n",
       "887                                      Montvila, Rev. Juozas    male  27.0   \n",
       "888                               Graham, Miss. Margaret Edith  female  19.0   \n",
       "889                   Johnston, Miss. Catherine Helen \"Carrie\"  female   NaN   \n",
       "890                                      Behr, Mr. Karl Howell    male  26.0   \n",
       "891                                        Dooley, Mr. Patrick    male  32.0   \n",
       "\n",
       "             SibSp  Parch            Ticket     Fare Cabin Embarked  \n",
       "PassengerId                                                          \n",
       "1                1      0         A/5 21171   7.2500   NaN        S  \n",
       "2                1      0          PC 17599  71.2833   C85        C  \n",
       "3                0      0  STON/O2. 3101282   7.9250   NaN        S  \n",
       "4                1      0            113803  53.1000  C123        S  \n",
       "5                0      0            373450   8.0500   NaN        S  \n",
       "...            ...    ...               ...      ...   ...      ...  \n",
       "887              0      0            211536  13.0000   NaN        S  \n",
       "888              0      0            112053  30.0000   B42        S  \n",
       "889              1      2        W./C. 6607  23.4500   NaN        S  \n",
       "890              0      0            111369  30.0000  C148        C  \n",
       "891              0      0            370376   7.7500   NaN        Q  \n",
       "\n",
       "[891 rows x 11 columns]"
      ]
     },
     "execution_count": 17,
     "metadata": {},
     "output_type": "execute_result"
    }
   ],
   "source": [
    "train"
   ]
  },
  {
   "cell_type": "code",
   "execution_count": 18,
   "id": "d388440a",
   "metadata": {},
   "outputs": [],
   "source": [
    "# one_hot_encoder 함수 지정\n",
    "def one_hot_encoder(data):\n",
    "    # 범주형 변수와 수치형 변수를 분리\n",
    "    cat_features = data.select_dtypes(include=['object']).columns.to_list()\n",
    "    num_features = data.select_dtypes(exclude='object').columns.to_list() \n",
    "    \n",
    "    #원핫인코딩\n",
    "    data_cat = pd.get_dummies(data[cat_features])\n",
    "    data = pd.concat([data,data_cat],axis=1).drop(columns=[f for f in cat_features])\n",
    "    return data\n",
    "# 원핫인코딩\n",
    "train = one_hot_encoder(train)\n",
    "test = one_hot_encoder(test)"
   ]
  },
  {
   "cell_type": "code",
   "execution_count": 19,
   "id": "906ce84a",
   "metadata": {},
   "outputs": [],
   "source": [
    "# 간단한 결측값 처리\n",
    "## train\n",
    "train['Age'] = train['Age'].fillna(train['Age'].mode()[0])\n",
    "## test\n",
    "test['Age'] = test['Age'].fillna(test['Age'].mode()[0])\n",
    "test['Fare'] = test['Fare'].fillna(test['Fare'].mode()[0])"
   ]
  },
  {
   "cell_type": "markdown",
   "id": "fec776df",
   "metadata": {},
   "source": [
    "## 로지스틱회귀"
   ]
  },
  {
   "cell_type": "code",
   "execution_count": 20,
   "id": "f6df01dc",
   "metadata": {},
   "outputs": [],
   "source": [
    "# 라벨과 데이터를 분리\n",
    "y_train = train['Survived']\n",
    "train = train.drop('Survived', axis=1)"
   ]
  },
  {
   "cell_type": "code",
   "execution_count": 21,
   "id": "ef8e09ef",
   "metadata": {},
   "outputs": [],
   "source": [
    "from sklearn.linear_model import LogisticRegression\n",
    "log_reg = LogisticRegression(solver=\"lbfgs\", \n",
    "                             C=10**10, \n",
    "                             # -> l1, l2와 같은 규제를 파라미터를 통해 적용가능 -> C의 값이 높을수록 규제가 줄어듦 \n",
    "                             # -> default값은 l2\n",
    "                             random_state=42)"
   ]
  },
  {
   "cell_type": "code",
   "execution_count": 23,
   "id": "046f51a4",
   "metadata": {},
   "outputs": [],
   "source": [
    "log_reg_c1 = LogisticRegression(solver=\"lbfgs\", \n",
    "                             C=1, # 규제를 적게 적용해봄\n",
    "                             random_state=42)"
   ]
  },
  {
   "cell_type": "code",
   "execution_count": 26,
   "id": "ecdafe32",
   "metadata": {},
   "outputs": [
    {
     "name": "stdout",
     "output_type": "stream",
     "text": [
      "cv score: 0.7990961019396146\n",
      "cv_score_c1: 0.808072311844831\n"
     ]
    }
   ],
   "source": [
    "# 기본 교차검증\n",
    "from sklearn.model_selection import cross_val_score\n",
    "\n",
    "score = np.mean(cross_val_score(log_reg, train, y_train, cv=5, scoring=\"accuracy\"))\n",
    "score_c1 = np.mean(cross_val_score(log_reg_c1, train, y_train, cv=5, scoring=\"accuracy\"))\n",
    "\n",
    "print(f'\\\n",
    "cv score: {score}\\n\\\n",
    "cv_score_c1: {score_c1}')"
   ]
  },
  {
   "cell_type": "markdown",
   "id": "b954d4ae",
   "metadata": {},
   "source": [
    "    - 규제를 한 모델과 규제를 하지 않은 모델의 검증값이 다른것을 알 수 있음"
   ]
  },
  {
   "cell_type": "markdown",
   "id": "b6869d15",
   "metadata": {},
   "source": [
    "## END"
   ]
  }
 ],
 "metadata": {
  "kernelspec": {
   "display_name": "ML",
   "language": "python",
   "name": "ml"
  },
  "language_info": {
   "codemirror_mode": {
    "name": "ipython",
    "version": 3
   },
   "file_extension": ".py",
   "mimetype": "text/x-python",
   "name": "python",
   "nbconvert_exporter": "python",
   "pygments_lexer": "ipython3",
   "version": "3.8.11"
  }
 },
 "nbformat": 4,
 "nbformat_minor": 5
}
