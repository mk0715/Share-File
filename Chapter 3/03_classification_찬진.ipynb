{
 "cells": [
  {
   "cell_type": "markdown",
   "metadata": {
    "id": "Sk4x9jAIgE6p"
   },
   "source": [
    "**3장 – 분류**"
   ]
  },
  {
   "cell_type": "markdown",
   "metadata": {},
   "source": [
    "### import module"
   ]
  },
  {
   "cell_type": "code",
   "execution_count": 1,
   "metadata": {
    "execution": {
     "iopub.execute_input": "2021-11-03T03:32:14.273688Z",
     "iopub.status.busy": "2021-11-03T03:32:14.272928Z",
     "iopub.status.idle": "2021-11-03T03:32:15.536909Z",
     "shell.execute_reply": "2021-11-03T03:32:15.537445Z"
    },
    "id": "_Om-WDkDgE6t"
   },
   "outputs": [],
   "source": [
    "import sys\n",
    "import sklearn\n",
    "import numpy as np\n",
    "# 노트북 실행 결과를 동일하게 유지하기 위해\n",
    "np.random.seed(42)\n",
    "\n",
    "# 깔끔한 그래프 출력을 위해\n",
    "%matplotlib inline\n",
    "import matplotlib as mpl\n",
    "import matplotlib.pyplot as plt\n",
    "mpl.rc('axes', labelsize=14)\n",
    "mpl.rc('xtick', labelsize=12)\n",
    "mpl.rc('ytick', labelsize=12)"
   ]
  },
  {
   "cell_type": "markdown",
   "metadata": {
    "id": "zCDRrWq9gE6u"
   },
   "source": [
    "### MNIST"
   ]
  },
  {
   "cell_type": "markdown",
   "metadata": {},
   "source": [
    "- 데이터 불러오기 \n",
    "    - mnist.keys()를 통해 데이터와 target이외에도 많은 것들이 있는 것을 확인할 수 있음"
   ]
  },
  {
   "cell_type": "code",
   "execution_count": 2,
   "metadata": {
    "execution": {
     "iopub.execute_input": "2021-11-03T03:32:15.540675Z",
     "iopub.status.busy": "2021-11-03T03:32:15.540074Z",
     "iopub.status.idle": "2021-11-03T03:32:33.373965Z",
     "shell.execute_reply": "2021-11-03T03:32:33.374425Z"
    },
    "id": "TErfA-KFgE6u",
    "outputId": "dbf3ec13-dedb-450e-d3a8-666bce188312"
   },
   "outputs": [
    {
     "name": "stdout",
     "output_type": "stream",
     "text": [
      "(70000, 784)\n",
      "(70000,)\n"
     ]
    }
   ],
   "source": [
    "# mnist 데이터를 불러옴\n",
    "from sklearn.datasets import fetch_openml\n",
    "mnist = fetch_openml('mnist_784', version=1, as_frame=False)\n",
    "\n",
    "# 데이터를 용도에 맞게 지정\n",
    "X, y = mnist[\"data\"], mnist[\"target\"] # X가 데이터들, y가 정답 라벨이라고 생각하면 편할듯\n",
    "y = y.astype(np.uint8) # 확인해보면 y가 문자열로 들어가있음\n",
    "\n",
    "# 출력하여 데이터의 크기 확인\n",
    "print(X.shape) # 28*28 = 784 / 즉 모든 픽셀들이 피처로 들어가있음\n",
    "print(y.shape) # 정답 라벨값"
   ]
  },
  {
   "cell_type": "markdown",
   "metadata": {},
   "source": [
    "- 데이터 확인하기"
   ]
  },
  {
   "cell_type": "code",
   "execution_count": 3,
   "metadata": {
    "execution": {
     "iopub.execute_input": "2021-11-03T03:32:33.677456Z",
     "iopub.status.busy": "2021-11-03T03:32:33.676791Z",
     "iopub.status.idle": "2021-11-03T03:32:33.680374Z",
     "shell.execute_reply": "2021-11-03T03:32:33.679852Z"
    },
    "id": "DRDohAXxgE6y"
   },
   "outputs": [
    {
     "data": {
      "image/png": "[encoded data removed]",
      "text/plain": [
       "<Figure size 432x288 with 1 Axes>"
      ]
     },
     "metadata": {
      "needs_background": "light"
     },
     "output_type": "display_data"
    }
   ],
   "source": [
    "# 이미지를 확인하는 함수를 지정\n",
    "def plot_digit(data):\n",
    "    image = data.reshape(28, 28) # 28*28의 형태로 변경해줌\n",
    "    plt.imshow(image, \n",
    "               cmap = mpl.cm.binary, # 색지정\n",
    "               interpolation=\"nearest\") # 이미지가 잘보이도록 보간\n",
    "    plt.axis(\"off\") # 그래프로 그릴때 축은 필요가 없으므로 꺼줌\n",
    "\n",
    "# 이미지 확인\n",
    "some_digit = X[0] # y[0]을 통해 확인해보면 5임\n",
    "plot_digit(some_digit)"
   ]
  },
  {
   "cell_type": "code",
   "execution_count": 4,
   "metadata": {
    "execution": {
     "iopub.execute_input": "2021-11-03T03:32:34.627669Z",
     "iopub.status.busy": "2021-11-03T03:32:34.627082Z",
     "iopub.status.idle": "2021-11-03T03:32:34.630266Z",
     "shell.execute_reply": "2021-11-03T03:32:34.630664Z"
    },
    "id": "L8_TCTnrgE6z"
   },
   "outputs": [],
   "source": [
    "# 훈련과 검증을 위하여 train과 test로 분리\n",
    "X_train, X_test, y_train, y_test = X[:60000], X[60000:], y[:60000], y[60000:]"
   ]
  },
  {
   "cell_type": "markdown",
   "metadata": {
    "id": "oVRa4avngE6z"
   },
   "source": [
    "- 이진 분류기 훈련"
   ]
  },
  {
   "cell_type": "code",
   "execution_count": 5,
   "metadata": {
    "execution": {
     "iopub.execute_input": "2021-11-03T03:32:34.634880Z",
     "iopub.status.busy": "2021-11-03T03:32:34.634296Z",
     "iopub.status.idle": "2021-11-03T03:32:34.637980Z",
     "shell.execute_reply": "2021-11-03T03:32:34.637484Z"
    },
    "id": "qRw3BbnlgE60"
   },
   "outputs": [],
   "source": [
    "# 편의상 라벨이 5인 것만 실행하기 위하여 라벨이 5인 것만 뽑아줌. 즉, 숫자 5에 대해서만 진행\n",
    "y_train_5 = (y_train == 5)\n",
    "y_test_5 = (y_test == 5)"
   ]
  },
  {
   "cell_type": "code",
   "execution_count": 6,
   "metadata": {
    "execution": {
     "iopub.execute_input": "2021-11-03T03:32:34.642079Z",
     "iopub.status.busy": "2021-11-03T03:32:34.641480Z",
     "iopub.status.idle": "2021-11-03T03:32:56.362088Z",
     "shell.execute_reply": "2021-11-03T03:32:56.362537Z"
    },
    "id": "uEon7nM4gE60",
    "outputId": "929f10f4-3c39-4ce7-a6a9-fa0f1944a364"
   },
   "outputs": [
    {
     "data": {
      "text/plain": [
       "SGDClassifier(random_state=42)"
      ]
     },
     "execution_count": 6,
     "metadata": {},
     "output_type": "execute_result"
    }
   ],
   "source": [
    "# SGD를 활용하여 훈련을 진행 -> 기본 훈련\n",
    "from sklearn.linear_model import SGDClassifier\n",
    "\n",
    "sgd_clf = SGDClassifier(max_iter=1000, tol=1e-3, random_state=42) # 모델 지정\n",
    "sgd_clf.fit(X_train, y_train_5) # fitting"
   ]
  },
  {
   "cell_type": "markdown",
   "metadata": {
    "id": "BUxJhF6KgE61"
   },
   "source": [
    "### 성능 측정"
   ]
  },
  {
   "cell_type": "markdown",
   "metadata": {
    "id": "9eRlCz0UgE61"
   },
   "source": [
    "- 교차 검증을 사용한 정확도 측정"
   ]
  },
  {
   "cell_type": "code",
   "execution_count": 7,
   "metadata": {
    "execution": {
     "iopub.execute_input": "2021-11-03T03:32:56.376737Z",
     "iopub.status.busy": "2021-11-03T03:32:56.375886Z",
     "iopub.status.idle": "2021-11-03T03:33:25.644040Z",
     "shell.execute_reply": "2021-11-03T03:33:25.643273Z"
    },
    "id": "rdgFzftfgE61",
    "outputId": "5b865507-f6d3-4b45-af67-8d9cc67ac650"
   },
   "outputs": [
    {
     "data": {
      "text/plain": [
       "array([0.95035, 0.96035, 0.9604 ])"
      ]
     },
     "execution_count": 7,
     "metadata": {},
     "output_type": "execute_result"
    }
   ],
   "source": [
    "# 기본 교차검증\n",
    "from sklearn.model_selection import cross_val_score\n",
    "cross_val_score(sgd_clf, X_train, y_train_5, cv=3, scoring=\"accuracy\")"
   ]
  },
  {
   "cell_type": "code",
   "execution_count": 8,
   "metadata": {
    "execution": {
     "iopub.execute_input": "2021-11-03T03:33:25.653675Z",
     "iopub.status.busy": "2021-11-03T03:33:25.652742Z",
     "iopub.status.idle": "2021-11-03T03:34:02.413348Z",
     "shell.execute_reply": "2021-11-03T03:34:02.414606Z"
    },
    "id": "Xoil3gxqgE61",
    "outputId": "59a866f6-d578-4a11-9a06-c44cb967bf92"
   },
   "outputs": [
    {
     "name": "stdout",
     "output_type": "stream",
     "text": [
      "0.9669\n",
      "0.91625\n",
      "0.96785\n"
     ]
    }
   ],
   "source": [
    "# StratifiedKFold (층화추출)\n",
    "from sklearn.model_selection import StratifiedKFold\n",
    "from sklearn.base import clone # 모델을 복사해주는 함수\n",
    "\n",
    "# shuffle=False가 기본값이기 때문에 random_state를 삭제하던지 shuffle=True로 지정하라는 경고가 발생합니다.\n",
    "# 0.24버전부터는 에러가 발생할 예정이므로 향후 버전을 위해 shuffle=True을 지정합니다.\n",
    "skfolds = StratifiedKFold(n_splits=3, random_state=42, shuffle=True)\n",
    "\n",
    "for train_index, test_index in skfolds.split(X_train, y_train_5):\n",
    "    clone_clf = clone(sgd_clf) # 모델을 복사해줌 copy와 비슷하다고 생각\n",
    "    X_train_folds = X_train[train_index]\n",
    "    y_train_folds = y_train_5[train_index]\n",
    "    X_test_fold = X_train[test_index]\n",
    "    y_test_fold = y_train_5[test_index]\n",
    "\n",
    "    clone_clf.fit(X_train_folds, y_train_folds)\n",
    "    y_pred = clone_clf.predict(X_test_fold)\n",
    "    n_correct = sum(y_pred == y_test_fold)\n",
    "    print(n_correct / len(y_pred))"
   ]
  },
  {
   "cell_type": "markdown",
   "metadata": {
    "id": "0-Ln7KNMgE62"
   },
   "source": [
    "### confusion_matrix"
   ]
  },
  {
   "cell_type": "code",
   "execution_count": 9,
   "metadata": {
    "execution": {
     "iopub.execute_input": "2021-11-03T03:34:02.960008Z",
     "iopub.status.busy": "2021-11-03T03:34:02.959076Z",
     "iopub.status.idle": "2021-11-03T03:34:32.091806Z",
     "shell.execute_reply": "2021-11-03T03:34:32.092609Z"
    },
    "id": "QhUZv3r1gE62"
   },
   "outputs": [],
   "source": [
    "# cross_val_predict\n",
    "### k겹 교차검증을 수행하지만 평가점수를 반환하는것이 아닌 예측값을 반환 ###\n",
    "### 훈련하는 동안 보지 못했던 데이터에 대해 예측가능 ###\n",
    "from sklearn.model_selection import cross_val_predict\n",
    "\n",
    "y_train_pred = cross_val_predict(sgd_clf, X_train, y_train_5, cv=3)"
   ]
  },
  {
   "cell_type": "code",
   "execution_count": 10,
   "metadata": {
    "execution": {
     "iopub.execute_input": "2021-11-03T03:34:32.098479Z",
     "iopub.status.busy": "2021-11-03T03:34:32.096226Z",
     "iopub.status.idle": "2021-11-03T03:34:32.120779Z",
     "shell.execute_reply": "2021-11-03T03:34:32.121490Z"
    },
    "id": "pi69WsJKgE62",
    "outputId": "dc571e1e-a385-4b5c-f02d-b8809cd0dd8e"
   },
   "outputs": [
    {
     "data": {
      "text/plain": [
       "array([[53892,   687],\n",
       "       [ 1891,  3530]], dtype=int64)"
      ]
     },
     "execution_count": 10,
     "metadata": {},
     "output_type": "execute_result"
    }
   ],
   "source": [
    "# confusion_matrix를 직접 눈으로 보고 판단할 수 있음\n",
    "### 각 클래스별 예측값을 보여줌 (ex:5를 3으로 잘못 예측한 횟수를 알고싶으면 5행 3열을 보면됨.)\n",
    "from sklearn.metrics import confusion_matrix\n",
    "\n",
    "confusion_matrix(y_train_5, y_train_pred) # 우리가 알고있는 오차행렬의 원리로 이해하면됨"
   ]
  },
  {
   "cell_type": "markdown",
   "metadata": {
    "id": "YWmGLSMxgE62"
   },
   "source": [
    "- 정밀도(precision), 재현율(recall)"
   ]
  },
  {
   "cell_type": "code",
   "execution_count": 11,
   "metadata": {
    "execution": {
     "iopub.execute_input": "2021-11-03T03:34:32.160304Z",
     "iopub.status.busy": "2021-11-03T03:34:32.159270Z",
     "iopub.status.idle": "2021-11-03T03:34:32.215073Z",
     "shell.execute_reply": "2021-11-03T03:34:32.215513Z"
    },
    "id": "PTD0FyhOgE63",
    "outputId": "c3d6ad7e-afa2-44d0-a4e5-a6c3f7b9e4a4"
   },
   "outputs": [
    {
     "data": {
      "text/plain": [
       "0.8370879772350012"
      ]
     },
     "execution_count": 11,
     "metadata": {},
     "output_type": "execute_result"
    }
   ],
   "source": [
    "# sklearn에서 제공하는 함수를 통해 score확인가능\n",
    "from sklearn.metrics import precision_score, recall_score\n",
    "\n",
    "precision_score(y_train_5, y_train_pred)"
   ]
  },
  {
   "cell_type": "code",
   "execution_count": 12,
   "metadata": {
    "execution": {
     "iopub.execute_input": "2021-11-03T03:34:32.272444Z",
     "iopub.status.busy": "2021-11-03T03:34:32.271863Z",
     "iopub.status.idle": "2021-11-03T03:34:32.293918Z",
     "shell.execute_reply": "2021-11-03T03:34:32.294315Z"
    },
    "id": "1kYoS9KUgE63",
    "outputId": "bb665613-6619-4945-aa2c-cd07b1f001e0"
   },
   "outputs": [
    {
     "data": {
      "text/plain": [
       "0.7325171197343846"
      ]
     },
     "execution_count": 12,
     "metadata": {},
     "output_type": "execute_result"
    }
   ],
   "source": [
    "# f1 score또한 확인가능\n",
    "### 어느곳에 중점을 둘 것이냐에 따라 달라짐\n",
    "from sklearn.metrics import f1_score\n",
    "\n",
    "f1_score(y_train_5, y_train_pred)"
   ]
  },
  {
   "cell_type": "markdown",
   "metadata": {
    "id": "gYZZ3Bl8gE64"
   },
   "source": [
    "### Precision & Recall Trade-off"
   ]
  },
  {
   "cell_type": "code",
   "execution_count": 13,
   "metadata": {
    "execution": {
     "iopub.execute_input": "2021-11-03T03:34:32.310401Z",
     "iopub.status.busy": "2021-11-03T03:34:32.309809Z",
     "iopub.status.idle": "2021-11-03T03:34:32.314372Z",
     "shell.execute_reply": "2021-11-03T03:34:32.314802Z"
    },
    "id": "c0eX3qregE64",
    "outputId": "1f9fa6ea-e00f-450d-ba00-65eb98598933"
   },
   "outputs": [
    {
     "data": {
      "text/plain": [
       "array([2164.22030239])"
      ]
     },
     "execution_count": 13,
     "metadata": {},
     "output_type": "execute_result"
    }
   ],
   "source": [
    "y_scores = sgd_clf.decision_function([some_digit]);y_scores # decision_function함수를 통해 각 샘플의 점수를 확인할 수 있음."
   ]
  },
  {
   "cell_type": "code",
   "execution_count": 14,
   "metadata": {
    "execution": {
     "iopub.execute_input": "2021-11-03T03:34:32.320134Z",
     "iopub.status.busy": "2021-11-03T03:34:32.318541Z",
     "iopub.status.idle": "2021-11-03T03:34:32.320795Z",
     "shell.execute_reply": "2021-11-03T03:34:32.321218Z"
    },
    "id": "PieGMAmjgE64"
   },
   "outputs": [],
   "source": [
    "threshold = 0 # 임계값을 임의로 정할 수 있음 / 이 값을 높이느냐 내리느냐에 따라 True, False가 결정됨\n",
    "y_some_digit_pred = (y_scores > threshold) # 위에서 구한 점수가 2164.22030239이기 때문에 True출력"
   ]
  },
  {
   "cell_type": "markdown",
   "metadata": {},
   "source": [
    "- 적절한 임계값 찾기"
   ]
  },
  {
   "cell_type": "code",
   "execution_count": 15,
   "metadata": {
    "execution": {
     "iopub.execute_input": "2021-11-03T03:34:32.339653Z",
     "iopub.status.busy": "2021-11-03T03:34:32.338770Z",
     "iopub.status.idle": "2021-11-03T03:35:01.502391Z",
     "shell.execute_reply": "2021-11-03T03:35:01.503266Z"
    },
    "id": "LBwhUvS_gE64"
   },
   "outputs": [],
   "source": [
    "# cross_val_predict를 활용하여 결정점수를 받을 수 있음\n",
    "y_scores = cross_val_predict(sgd_clf, X_train, y_train_5, cv=3,\n",
    "                             method=\"decision_function\") # method를 decision_function로 지정함으로써 결정점수를 받을 수 있음"
   ]
  },
  {
   "cell_type": "code",
   "execution_count": 16,
   "metadata": {
    "execution": {
     "iopub.execute_input": "2021-11-03T03:35:01.508559Z",
     "iopub.status.busy": "2021-11-03T03:35:01.507503Z",
     "iopub.status.idle": "2021-11-03T03:35:01.531806Z",
     "shell.execute_reply": "2021-11-03T03:35:01.532578Z"
    },
    "id": "NI3fJ4gLgE64"
   },
   "outputs": [],
   "source": [
    "# 그래프를 통해 적절한 임계값을 찾을 수 있음\n",
    "from sklearn.metrics import precision_recall_curve\n",
    "\n",
    "precisions, recalls, thresholds = precision_recall_curve(y_train_5, y_scores)"
   ]
  },
  {
   "cell_type": "code",
   "execution_count": 19,
   "metadata": {
    "execution": {
     "iopub.execute_input": "2021-11-03T03:35:01.548587Z",
     "iopub.status.busy": "2021-11-03T03:35:01.547475Z",
     "iopub.status.idle": "2021-11-03T03:35:02.148641Z",
     "shell.execute_reply": "2021-11-03T03:35:02.149094Z"
    },
    "id": "Hs88k2qygE65",
    "outputId": "0b67d71f-9727-4ab9-8773-7307ad210941"
   },
   "outputs": [
    {
     "data": {
      "image/png": "[encoded data removed]",
      "text/plain": [
       "<Figure size 576x288 with 1 Axes>"
      ]
     },
     "metadata": {
      "needs_background": "light"
     },
     "output_type": "display_data"
    }
   ],
   "source": [
    "def plot_precision_recall_vs_threshold(precisions, recalls, thresholds):\n",
    "    plt.plot(thresholds, precisions[:-1], \"b--\", label=\"Precision\", linewidth=2)\n",
    "    plt.plot(thresholds, recalls[:-1], \"g-\", label=\"Recall\", linewidth=2)\n",
    "    plt.legend(loc=\"center right\", fontsize=16) \n",
    "    plt.xlabel(\"Threshold\", fontsize=16)       \n",
    "    plt.grid(True)                            \n",
    "    plt.axis([-50000, 50000, 0, 1])             \n",
    "\n",
    "plt.figure(figsize=(8, 4))                                            \n",
    "plot_precision_recall_vs_threshold(precisions, recalls, thresholds) # precision과 recall을 그려줌\n",
    "\n",
    "## 추가적인 그래프 ##\n",
    "# precision이 90이상 되는 recall, threshold의 값을 찾기 위함 \n",
    "recall_90_precision = recalls[np.argmax(precisions >= 0.90)] \n",
    "threshold_90_precision = thresholds[np.argmax(precisions >= 0.90)]\n",
    "# 이후부터는 그래프의 빨간실선 부분을 그려줌\n",
    "plt.plot([threshold_90_precision, threshold_90_precision], [0., 0.9], \"r:\")                 # Not shown\n",
    "plt.plot([-50000, threshold_90_precision], [0.9, 0.9], \"r:\")                                # Not shown\n",
    "plt.plot([-50000, threshold_90_precision], [recall_90_precision, recall_90_precision], \"r:\")# Not shown\n",
    "plt.plot([threshold_90_precision], [0.9], \"ro\")                                             # Not shown\n",
    "plt.plot([threshold_90_precision], [recall_90_precision], \"ro\")                             # Not shown\n",
    "plt.show()"
   ]
  },
  {
   "cell_type": "code",
   "execution_count": 20,
   "metadata": {
    "execution": {
     "iopub.execute_input": "2021-11-03T03:35:02.184892Z",
     "iopub.status.busy": "2021-11-03T03:35:02.182922Z",
     "iopub.status.idle": "2021-11-03T03:35:02.688438Z",
     "shell.execute_reply": "2021-11-03T03:35:02.688876Z"
    },
    "id": "n4syzOajgE65",
    "outputId": "fe6af39b-1ca6-4f12-a351-c14476faa976"
   },
   "outputs": [
    {
     "data": {
      "image/png": "[encoded data removed]",
      "text/plain": [
       "<Figure size 576x432 with 1 Axes>"
      ]
     },
     "metadata": {
      "needs_background": "light"
     },
     "output_type": "display_data"
    }
   ],
   "source": [
    "# 재현율에 대한 정밀도 곡선 그래프\n",
    "## trade off를 선택하는 방법중 하나\n",
    "## sklearn의 plot_precision_recall 모듈 있음\n",
    "def plot_precision_vs_recall(precisions, recalls):\n",
    "    plt.plot(recalls, precisions, \"b-\", linewidth=2)\n",
    "    plt.xlabel(\"Recall\", fontsize=16)\n",
    "    plt.ylabel(\"Precision\", fontsize=16)\n",
    "    plt.axis([0, 1, 0, 1])\n",
    "    plt.grid(True)\n",
    "\n",
    "plt.figure(figsize=(8, 6))\n",
    "plot_precision_vs_recall(precisions, recalls)\n",
    "\n",
    "## 추가적인 부분\n",
    "# 그래프에서 빨간 부분을 그려줌\n",
    "plt.plot([recall_90_precision, recall_90_precision], [0., 0.9], \"r:\")\n",
    "plt.plot([0.0, recall_90_precision], [0.9, 0.9], \"r:\")\n",
    "plt.plot([recall_90_precision], [0.9], \"ro\")\n",
    "plt.show()"
   ]
  },
  {
   "cell_type": "code",
   "execution_count": 31,
   "metadata": {
    "scrolled": true
   },
   "outputs": [
    {
     "data": {
      "text/plain": [
       "<sklearn.metrics._plot.precision_recall_curve.PrecisionRecallDisplay at 0x1fda9020ee0>"
      ]
     },
     "execution_count": 31,
     "metadata": {},
     "output_type": "execute_result"
    },
    {
     "data": {
      "image/png": "[encoded data removed]",
      "text/plain": [
       "<Figure size 432x288 with 1 Axes>"
      ]
     },
     "metadata": {
      "needs_background": "light"
     },
     "output_type": "display_data"
    }
   ],
   "source": [
    "# sklearn의 plot_precision_recall 모듈\n",
    "from sklearn.metrics import plot_precision_recall_curve\n",
    "\n",
    "plot_precision_recall_curve(sgd_clf, X_train, y_train_5)"
   ]
  },
  {
   "cell_type": "code",
   "execution_count": 21,
   "metadata": {
    "execution": {
     "iopub.execute_input": "2021-11-03T03:35:02.694835Z",
     "iopub.status.busy": "2021-11-03T03:35:02.693149Z",
     "iopub.status.idle": "2021-11-03T03:35:02.695495Z",
     "shell.execute_reply": "2021-11-03T03:35:02.695918Z"
    },
    "id": "6GwcA8ZDgE65"
   },
   "outputs": [
    {
     "name": "stdout",
     "output_type": "stream",
     "text": [
      "precision_score: 0.9000345901072293\n",
      "recall_score: 0.4799852425751706\n"
     ]
    }
   ],
   "source": [
    "## thresholds 찾기\n",
    "# np.argmax(precisions >= 0.90) -> true값들 중 index가 가장 큰 값 / 이 값의 thresholds를 사용\n",
    "threshold_90_precision = thresholds[np.argmax(precisions >= 0.90)]\n",
    "\n",
    "# 위에서 구한 threshold 보다 큰 값을 찾아줌\n",
    "y_train_pred_90 = (y_scores >= threshold_90_precision)\n",
    "\n",
    "# score확인\n",
    "print(f'\\\n",
    "precision_score: {precision_score(y_train_5, y_train_pred_90)}\\n\\\n",
    "recall_score: {recall_score(y_train_5, y_train_pred_90)}')"
   ]
  },
  {
   "cell_type": "markdown",
   "metadata": {
    "id": "xlGskW7xgE66"
   },
   "source": [
    "### ROC 곡선"
   ]
  },
  {
   "cell_type": "code",
   "execution_count": 22,
   "metadata": {
    "execution": {
     "iopub.execute_input": "2021-11-03T03:35:02.768368Z",
     "iopub.status.busy": "2021-11-03T03:35:02.767461Z",
     "iopub.status.idle": "2021-11-03T03:35:02.781793Z",
     "shell.execute_reply": "2021-11-03T03:35:02.781171Z"
    },
    "id": "sGvdwKe2gE66"
   },
   "outputs": [],
   "source": [
    "from sklearn.metrics import roc_curve # 이를 통해 fpr, tpr, thresholds을 알 수 있음\n",
    "\n",
    "fpr, tpr, thresholds = roc_curve(y_train_5, y_scores)"
   ]
  },
  {
   "cell_type": "code",
   "execution_count": 23,
   "metadata": {
    "execution": {
     "iopub.execute_input": "2021-11-03T03:35:02.821717Z",
     "iopub.status.busy": "2021-11-03T03:35:02.820582Z",
     "iopub.status.idle": "2021-11-03T03:35:03.298014Z",
     "shell.execute_reply": "2021-11-03T03:35:03.298458Z"
    },
    "id": "9uaj1Rc-gE66",
    "outputId": "ac376dd2-0576-48c4-a05b-4892965012e4"
   },
   "outputs": [
    {
     "data": {
      "image/png": "[encoded data removed]",
      "text/plain": [
       "<Figure size 576x432 with 1 Axes>"
      ]
     },
     "metadata": {
      "needs_background": "light"
     },
     "output_type": "display_data"
    }
   ],
   "source": [
    "# roc_curve를 그려주는 함수\n",
    "## sklearn의 plot_roc_curve 모듈 있음\n",
    "def plot_roc_curve(fpr, tpr, label=None):\n",
    "    plt.plot(fpr, tpr, linewidth=2, label=label)\n",
    "    plt.plot([0, 1], [0, 1], 'k--') # 대각 점선\n",
    "    plt.axis([0, 1, 0, 1])                                    \n",
    "    plt.xlabel('False Positive Rate (Fall-Out)', fontsize=16) \n",
    "    plt.ylabel('True Positive Rate (Recall)', fontsize=16)   \n",
    "    plt.grid(True)                                           \n",
    "\n",
    "plt.figure(figsize=(8, 6))                                    \n",
    "plot_roc_curve(fpr, tpr)\n",
    "\n",
    "## 추가\n",
    "fpr_90 = fpr[np.argmax(tpr >= recall_90_precision)]           \n",
    "plt.plot([fpr_90, fpr_90], [0., recall_90_precision], \"r:\")   \n",
    "plt.plot([0.0, fpr_90], [recall_90_precision, recall_90_precision], \"r:\")  \n",
    "plt.plot([fpr_90], [recall_90_precision], \"ro\")               \n",
    "plt.show()"
   ]
  },
  {
   "cell_type": "code",
   "execution_count": 32,
   "metadata": {},
   "outputs": [
    {
     "data": {
      "text/plain": [
       "<sklearn.metrics._plot.roc_curve.RocCurveDisplay at 0x1fdaa4f7e50>"
      ]
     },
     "execution_count": 32,
     "metadata": {},
     "output_type": "execute_result"
    },
    {
     "data": {
      "image/png": "[encoded data removed]",
      "text/plain": [
       "<Figure size 432x288 with 1 Axes>"
      ]
     },
     "metadata": {
      "needs_background": "light"
     },
     "output_type": "display_data"
    }
   ],
   "source": [
    "# sklearn의 plot_roc_curve 모듈 -> 훨씬 간단함\n",
    "from sklearn.metrics import plot_roc_curve\n",
    "\n",
    "plot_roc_curve(sgd_clf, X_train, y_train_5)"
   ]
  },
  {
   "cell_type": "code",
   "execution_count": 24,
   "metadata": {
    "execution": {
     "iopub.execute_input": "2021-11-03T03:35:03.303630Z",
     "iopub.status.busy": "2021-11-03T03:35:03.302717Z",
     "iopub.status.idle": "2021-11-03T03:35:03.325509Z",
     "shell.execute_reply": "2021-11-03T03:35:03.325942Z"
    },
    "id": "_Nrcr--6gE66",
    "outputId": "d1e9ec24-eee9-4a97-905e-7926dbac89b5"
   },
   "outputs": [
    {
     "data": {
      "text/plain": [
       "0.9604938554008616"
      ]
     },
     "execution_count": 24,
     "metadata": {},
     "output_type": "execute_result"
    }
   ],
   "source": [
    "# score 확인\n",
    "from sklearn.metrics import roc_auc_score\n",
    "\n",
    "roc_auc_score(y_train_5, y_scores)"
   ]
  },
  {
   "cell_type": "markdown",
   "metadata": {},
   "source": [
    "    일반적으로 양성 클래스가 드물거나 FN보다 FP이 더 중요한 경우 PR곡선을 사용하고,   \n",
    "    그렇지 않은경우 ROC곡선을 사용함.  \n",
    "    ex) roc_auc_score를 보면 좋은 분류기라고 생각할 수 있겠지만 음성(5 아님)에 비해 양성(5)이 매우 적음"
   ]
  },
  {
   "cell_type": "markdown",
   "metadata": {},
   "source": [
    "- RandomForestClassifier를 통한 비교"
   ]
  },
  {
   "cell_type": "code",
   "execution_count": 25,
   "metadata": {
    "execution": {
     "iopub.execute_input": "2021-11-03T03:35:03.331569Z",
     "iopub.status.busy": "2021-11-03T03:35:03.330673Z",
     "iopub.status.idle": "2021-11-03T03:36:05.296924Z",
     "shell.execute_reply": "2021-11-03T03:36:05.297491Z"
    },
    "id": "I8VhX0-ngE67"
   },
   "outputs": [],
   "source": [
    "from sklearn.ensemble import RandomForestClassifier\n",
    "\n",
    "forest_clf = RandomForestClassifier(n_estimators=100, random_state=42)\n",
    "y_probas_forest = cross_val_predict(forest_clf, X_train, y_train_5, cv=3,\n",
    "                                    method=\"predict_proba\")"
   ]
  },
  {
   "cell_type": "code",
   "execution_count": 26,
   "metadata": {
    "execution": {
     "iopub.execute_input": "2021-11-03T03:36:05.301420Z",
     "iopub.status.busy": "2021-11-03T03:36:05.300274Z",
     "iopub.status.idle": "2021-11-03T03:36:05.310105Z",
     "shell.execute_reply": "2021-11-03T03:36:05.310512Z"
    },
    "id": "qxTwqW3fgE67"
   },
   "outputs": [],
   "source": [
    "y_scores_forest = y_probas_forest[:, 1] # 점수 = 양성 클래스(1)의 확률\n",
    "fpr_forest, tpr_forest, thresholds_forest = roc_curve(y_train_5,y_scores_forest)"
   ]
  },
  {
   "cell_type": "code",
   "execution_count": 27,
   "metadata": {
    "execution": {
     "iopub.execute_input": "2021-11-03T03:36:05.314016Z",
     "iopub.status.busy": "2021-11-03T03:36:05.312811Z",
     "iopub.status.idle": "2021-11-03T03:36:05.870569Z",
     "shell.execute_reply": "2021-11-03T03:36:05.870044Z"
    },
    "id": "p3AuwFHTgE67",
    "outputId": "6b089dd9-a691-484a-d6cf-1b33612fbbc8"
   },
   "outputs": [
    {
     "data": {
      "image/png": "[encoded data removed]",
      "text/plain": [
       "<Figure size 576x432 with 1 Axes>"
      ]
     },
     "metadata": {
      "needs_background": "light"
     },
     "output_type": "display_data"
    }
   ],
   "source": [
    "recall_for_forest = tpr_forest[np.argmax(fpr_forest >= fpr_90)]\n",
    "\n",
    "plt.figure(figsize=(8, 6))\n",
    "plt.plot(fpr, tpr, \"b:\", linewidth=2, label=\"SGD\")\n",
    "plot_roc_curve(fpr_forest, tpr_forest, \"Random Forest\")\n",
    "\n",
    "## 추가\n",
    "plt.plot([fpr_90, fpr_90], [0., recall_90_precision], \"r:\")\n",
    "plt.plot([0.0, fpr_90], [recall_90_precision, recall_90_precision], \"r:\")\n",
    "plt.plot([fpr_90], [recall_90_precision], \"ro\")\n",
    "plt.plot([fpr_90, fpr_90], [0., recall_for_forest], \"r:\")\n",
    "plt.plot([fpr_90], [recall_for_forest], \"ro\")\n",
    "plt.grid(True)\n",
    "plt.legend(loc=\"lower right\", fontsize=16)\n",
    "plt.show()"
   ]
  },
  {
   "cell_type": "code",
   "execution_count": 31,
   "metadata": {
    "execution": {
     "iopub.execute_input": "2021-11-03T03:36:05.874878Z",
     "iopub.status.busy": "2021-11-03T03:36:05.874285Z",
     "iopub.status.idle": "2021-11-03T03:36:05.891082Z",
     "shell.execute_reply": "2021-11-03T03:36:05.890593Z"
    },
    "id": "AIiXL-jfgE67",
    "outputId": "58c623f1-40f3-4d95-ab9b-224e29bb38fe"
   },
   "outputs": [
    {
     "name": "stdout",
     "output_type": "stream",
     "text": [
      "roc_auc_score: 0.9983436731328145\n",
      "precision_score: 0.9905083315756169\n",
      "recall_score: 0.8662608374838591\n"
     ]
    }
   ],
   "source": [
    "# 점수를 보면 랜덤포레스트가 훨씬 좋은 것을 확인할 수 있음\n",
    "y_train_pred_forest = cross_val_predict(forest_clf, X_train, y_train_5, cv=3)\n",
    "\n",
    "# 결과 출력하여 확인\n",
    "print(f'\\\n",
    "roc_auc_score: {roc_auc_score(y_train_5, y_scores_forest)}\\n\\\n",
    "precision_score: {precision_score(y_train_5, y_train_pred_forest)}\\n\\\n",
    "recall_score: {recall_score(y_train_5, y_train_pred_forest)}')"
   ]
  },
  {
   "cell_type": "markdown",
   "metadata": {
    "id": "USom0rVGgE68"
   },
   "source": [
    "### 다중 분류"
   ]
  },
  {
   "cell_type": "markdown",
   "metadata": {},
   "source": [
    "        OvR (=OvA): 10개의 숫자중에 하나만 분류하는 분류기를 10번 학습시키는 방법  \n",
    "         -> ex) 5와 5가 아님으로 분류하는 분류기  \n",
    "          \n",
    "        OvO: 각 숫자의 조합마다 이진분류기를 훈련"
   ]
  },
  {
   "cell_type": "code",
   "execution_count": 32,
   "metadata": {
    "execution": {
     "iopub.execute_input": "2021-11-03T03:37:08.414358Z",
     "iopub.status.busy": "2021-11-03T03:37:08.413731Z",
     "iopub.status.idle": "2021-11-03T03:37:08.899441Z",
     "shell.execute_reply": "2021-11-03T03:37:08.899879Z"
    },
    "id": "gXUQyhEDgE68",
    "outputId": "256401c8-a3b4-4eb8-e458-a2a71d52e826"
   },
   "outputs": [
    {
     "data": {
      "text/plain": [
       "array([5], dtype=uint8)"
      ]
     },
     "execution_count": 32,
     "metadata": {},
     "output_type": "execute_result"
    }
   ],
   "source": [
    "from sklearn.svm import SVC\n",
    "\n",
    "svm_clf = SVC(gamma=\"auto\", random_state=42)\n",
    "svm_clf.fit(X_train[:1000], y_train[:1000]) # y_train_5이 아니라 y_train으로 학습\n",
    "svm_clf.predict([some_digit]) # 위에서 label이 5이던 값을 예측"
   ]
  },
  {
   "cell_type": "code",
   "execution_count": 33,
   "metadata": {
    "execution": {
     "iopub.execute_input": "2021-11-03T03:37:08.904203Z",
     "iopub.status.busy": "2021-11-03T03:37:08.903599Z",
     "iopub.status.idle": "2021-11-03T03:37:08.909561Z",
     "shell.execute_reply": "2021-11-03T03:37:08.909003Z"
    },
    "id": "j_E8SF0ugE68",
    "outputId": "79133533-fa4c-4dff-f9ad-15fae00741f3"
   },
   "outputs": [
    {
     "data": {
      "text/plain": [
       "array([[ 2.81585438,  7.09167958,  3.82972099,  0.79365551,  5.8885703 ,\n",
       "         9.29718395,  1.79862509,  8.10392157, -0.228207  ,  4.83753243]])"
      ]
     },
     "execution_count": 33,
     "metadata": {},
     "output_type": "execute_result"
    }
   ],
   "source": [
    "some_digit_scores = svm_clf.decision_function([some_digit]);some_digit_scores # decision_function 함수를 통해 각 class의 점수를 확인"
   ]
  },
  {
   "cell_type": "code",
   "execution_count": 34,
   "metadata": {
    "execution": {
     "iopub.execute_input": "2021-11-03T03:37:08.934387Z",
     "iopub.status.busy": "2021-11-03T03:37:08.933805Z",
     "iopub.status.idle": "2021-11-03T03:37:11.880713Z",
     "shell.execute_reply": "2021-11-03T03:37:11.881113Z"
    },
    "id": "aDY-fSNkgE68",
    "outputId": "8e0b32bb-4c5c-4585-b78a-e8982b5699c6"
   },
   "outputs": [
    {
     "data": {
      "text/plain": [
       "array([5], dtype=uint8)"
      ]
     },
     "execution_count": 34,
     "metadata": {},
     "output_type": "execute_result"
    }
   ],
   "source": [
    "# sklearn에서 OvO 혹은 OvR을 사용하도록 강제할 수도 있음\n",
    "from sklearn.multiclass import OneVsRestClassifier\n",
    "ovr_clf = OneVsRestClassifier(SVC(gamma=\"auto\", random_state=42)) # OvR을 사용하도록 강제함\n",
    "ovr_clf.fit(X_train[:1000], y_train[:1000])\n",
    "ovr_clf.predict([some_digit])"
   ]
  },
  {
   "cell_type": "code",
   "execution_count": 35,
   "metadata": {
    "execution": {
     "iopub.execute_input": "2021-11-03T03:37:11.892347Z",
     "iopub.status.busy": "2021-11-03T03:37:11.891740Z",
     "iopub.status.idle": "2021-11-03T03:40:10.143544Z",
     "shell.execute_reply": "2021-11-03T03:40:10.143975Z"
    },
    "id": "xPqGtkqugE69",
    "outputId": "337c0dcd-3b02-46f8-b4b6-889cecd3c467"
   },
   "outputs": [
    {
     "data": {
      "text/plain": [
       "array([[-31893.03095419, -34419.69069632,  -9530.63950739,\n",
       "          1823.73154031, -22320.14822878,  -1385.80478895,\n",
       "        -26188.91070951, -16147.51323997,  -4604.35491274,\n",
       "        -12050.767298  ]])"
      ]
     },
     "execution_count": 35,
     "metadata": {},
     "output_type": "execute_result"
    }
   ],
   "source": [
    "# sgd_clf는 SGD로 위에서 설정함\n",
    "sgd_clf.fit(X_train, y_train) #fit\n",
    "sgd_clf.decision_function([some_digit]) # 각 class별 점수를 확인할 수 있음"
   ]
  },
  {
   "cell_type": "code",
   "execution_count": 37,
   "metadata": {
    "execution": {
     "iopub.execute_input": "2021-11-03T03:40:10.153393Z",
     "iopub.status.busy": "2021-11-03T03:40:10.152736Z",
     "iopub.status.idle": "2021-11-03T03:45:02.837036Z",
     "shell.execute_reply": "2021-11-03T03:45:02.837827Z"
    },
    "id": "5gbq2JapgE69",
    "outputId": "96e11799-688c-48c4-d7ec-54b6de89e64f"
   },
   "outputs": [],
   "source": [
    "# # 교차검증 점수를 확인해봄 -> 오래걸림\n",
    "# cross_val_score(sgd_clf, X_train, y_train, cv=3, scoring=\"accuracy\")"
   ]
  },
  {
   "cell_type": "code",
   "execution_count": 41,
   "metadata": {
    "execution": {
     "iopub.execute_input": "2021-11-03T03:45:02.841954Z",
     "iopub.status.busy": "2021-11-03T03:45:02.841060Z",
     "iopub.status.idle": "2021-11-03T03:57:59.266880Z",
     "shell.execute_reply": "2021-11-03T03:57:59.267546Z"
    },
    "id": "TTmxfDZ4gE69",
    "outputId": "a1f8acd3-4bbb-4472-839a-7a7f581fa2c4"
   },
   "outputs": [],
   "source": [
    "# scailing을 통해 점수 향상 가능 \n",
    "from sklearn.preprocessing import StandardScaler\n",
    "scaler = StandardScaler()\n",
    "X_train_scaled = scaler.fit_transform(X_train.astype(np.float64))\n",
    "# cross_val_score(sgd_clf, X_train_scaled, y_train, cv=3, scoring=\"accuracy\") # -> 오래걸림"
   ]
  },
  {
   "cell_type": "markdown",
   "metadata": {
    "id": "jLBp3N5igE69"
   },
   "source": [
    "### 에러 분석\n",
    "*좋은 모델을 고른후 모델의 성능을 높이는 방법 중 하나*"
   ]
  },
  {
   "cell_type": "code",
   "execution_count": 42,
   "metadata": {
    "execution": {
     "iopub.execute_input": "2021-11-03T03:57:59.271662Z",
     "iopub.status.busy": "2021-11-03T03:57:59.270835Z",
     "iopub.status.idle": "2021-11-03T04:10:54.132632Z",
     "shell.execute_reply": "2021-11-03T04:10:54.133405Z"
    },
    "id": "2ZJcvS5ogE69",
    "outputId": "8569a4ba-cf8f-4ee3-a8aa-8670214d4542"
   },
   "outputs": [
    {
     "data": {
      "text/plain": [
       "array([[5577,    0,   22,    5,    8,   43,   36,    6,  225,    1],\n",
       "       [   0, 6400,   37,   24,    4,   44,    4,    7,  212,   10],\n",
       "       [  27,   27, 5220,   92,   73,   27,   67,   36,  378,   11],\n",
       "       [  22,   17,  117, 5227,    2,  203,   27,   40,  403,   73],\n",
       "       [  12,   14,   41,    9, 5182,   12,   34,   27,  347,  164],\n",
       "       [  27,   15,   30,  168,   53, 4444,   75,   14,  535,   60],\n",
       "       [  30,   15,   42,    3,   44,   97, 5552,    3,  131,    1],\n",
       "       [  21,   10,   51,   30,   49,   12,    3, 5684,  195,  210],\n",
       "       [  17,   63,   48,   86,    3,  126,   25,   10, 5429,   44],\n",
       "       [  25,   18,   30,   64,  118,   36,    1,  179,  371, 5107]],\n",
       "      dtype=int64)"
      ]
     },
     "execution_count": 42,
     "metadata": {},
     "output_type": "execute_result"
    }
   ],
   "source": [
    "y_train_pred = cross_val_predict(sgd_clf, X_train_scaled, y_train, cv=3)\n",
    "conf_mx = confusion_matrix(y_train, y_train_pred)\n",
    "conf_mx"
   ]
  },
  {
   "cell_type": "markdown",
   "metadata": {
    "id": "HmH5h3_7gE6-"
   },
   "source": [
    "사이킷런 0.22 버전부터는 `sklearn.metrics.plot_confusion_matrix()` 함수를 사용할 수 있습니다."
   ]
  },
  {
   "cell_type": "code",
   "execution_count": 43,
   "metadata": {
    "execution": {
     "iopub.execute_input": "2021-11-03T04:10:54.137694Z",
     "iopub.status.busy": "2021-11-03T04:10:54.136836Z",
     "iopub.status.idle": "2021-11-03T04:10:54.142606Z",
     "shell.execute_reply": "2021-11-03T04:10:54.143334Z"
    },
    "id": "DmKhV5QcgE6-"
   },
   "outputs": [],
   "source": [
    "def plot_confusion_matrix(matrix):\n",
    "    \"\"\"If you prefer color and a colorbar\"\"\"\n",
    "    fig = plt.figure(figsize=(8,8))\n",
    "    ax = fig.add_subplot(111)\n",
    "    cax = ax.matshow(matrix)\n",
    "    fig.colorbar(cax)"
   ]
  },
  {
   "cell_type": "code",
   "execution_count": 53,
   "metadata": {},
   "outputs": [
    {
     "data": {
      "image/png": "[encoded data removed]",
      "text/plain": [
       "<Figure size 288x288 with 1 Axes>"
      ]
     },
     "metadata": {
      "needs_background": "light"
     },
     "output_type": "display_data"
    }
   ],
   "source": [
    "# 오차행렬을 시각화하여 확인 -> 5의 경우 더 색이 어두움 / 잘 못맞춘다는 뜻\n",
    "## 행은 실제 값 / 열은 예측값임\n",
    "plt.matshow(conf_mx, cmap=plt.cm.gray)\n",
    "plt.show()"
   ]
  },
  {
   "cell_type": "code",
   "execution_count": 45,
   "metadata": {
    "execution": {
     "iopub.execute_input": "2021-11-03T04:10:54.463645Z",
     "iopub.status.busy": "2021-11-03T04:10:54.462827Z",
     "iopub.status.idle": "2021-11-03T04:10:54.465648Z",
     "shell.execute_reply": "2021-11-03T04:10:54.466297Z"
    },
    "id": "yEbkSUoTgE6-"
   },
   "outputs": [],
   "source": [
    "# 각 클래스별 에러 비율을 구해줌\n",
    "row_sums = conf_mx.sum(axis=1, keepdims=True)\n",
    "norm_conf_mx = conf_mx / row_sums"
   ]
  },
  {
   "cell_type": "code",
   "execution_count": 55,
   "metadata": {
    "execution": {
     "iopub.execute_input": "2021-11-03T04:10:54.469426Z",
     "iopub.status.busy": "2021-11-03T04:10:54.468564Z",
     "iopub.status.idle": "2021-11-03T04:10:54.733288Z",
     "shell.execute_reply": "2021-11-03T04:10:54.733921Z"
    },
    "id": "eWPxyQf3gE6-",
    "outputId": "a76e7f07-68a9-492b-991a-83deeab55e50"
   },
   "outputs": [
    {
     "data": {
      "image/png": "[encoded data removed]",
      "text/plain": [
       "<Figure size 288x288 with 1 Axes>"
      ]
     },
     "metadata": {
      "needs_background": "light"
     },
     "output_type": "display_data"
    }
   ],
   "source": [
    "np.fill_diagonal(norm_conf_mx, 0) # 축들을 0으로 채워줌\n",
    "plt.matshow(norm_conf_mx, cmap=plt.cm.gray)\n",
    "plt.show()"
   ]
  },
  {
   "cell_type": "markdown",
   "metadata": {
    "id": "Cwyiz18egE6_"
   },
   "source": [
    "### 다중 레이블 분류"
   ]
  },
  {
   "cell_type": "code",
   "execution_count": 57,
   "metadata": {
    "execution": {
     "iopub.execute_input": "2021-11-03T04:10:55.617350Z",
     "iopub.status.busy": "2021-11-03T04:10:55.616472Z",
     "iopub.status.idle": "2021-11-03T04:10:55.664866Z",
     "shell.execute_reply": "2021-11-03T04:10:55.665559Z"
    },
    "id": "4zIUAlJ6gE6_",
    "outputId": "d7ccda91-5114-4742-e6c8-6b4b9ed2cd15"
   },
   "outputs": [
    {
     "data": {
      "text/plain": [
       "KNeighborsClassifier()"
      ]
     },
     "execution_count": 57,
     "metadata": {},
     "output_type": "execute_result"
    }
   ],
   "source": [
    "from sklearn.neighbors import KNeighborsClassifier\n",
    "\n",
    "y_train_large = (y_train >= 7) # 해당 값이 큰값(7이상)인지\n",
    "y_train_odd = (y_train % 2 == 1) # 해당 값이 홀수인지\n",
    "y_multilabel = np.c_[y_train_large, y_train_odd] # np.c_ -> 두개의 1차원 배열을 합쳐서 2차원 배열로 만들어줌 / 즉, y_train을 변경한 것\n",
    "knn_clf = KNeighborsClassifier()\n",
    "knn_clf.fit(X_train, y_multilabel)"
   ]
  },
  {
   "cell_type": "markdown",
   "metadata": {
    "id": "K7BhdZ-IgE6_"
   },
   "source": [
    "**경고**: 다음 셀은 실행하는데 매우 오래 걸립니다(하드웨어에 따라 몇 시간이 걸릴 수 있습니다)."
   ]
  },
  {
   "cell_type": "code",
   "execution_count": null,
   "metadata": {
    "execution": {
     "iopub.execute_input": "2021-11-03T04:10:55.770744Z",
     "iopub.status.busy": "2021-11-03T04:10:55.769903Z",
     "iopub.status.idle": "2021-11-03T04:12:23.950858Z",
     "shell.execute_reply": "2021-11-03T04:12:23.950197Z"
    },
    "id": "XaBBEj4dgE6_",
    "outputId": "47734cc8-c047-42ca-ba5a-f0927f1ddfeb"
   },
   "outputs": [],
   "source": [
    "y_train_knn_pred = cross_val_predict(knn_clf, X_train, y_multilabel, cv=3) # 새로운 라벨에 학습을 시킴\n",
    "f1_score(y_multilabel, y_train_knn_pred, average=\"macro\") # 실제값과 예측값의 f1값을 구함\n",
    "# -> 이 코드는 모든 레이블의 가중치가 같다고 가정한 것임\n",
    "# -> 가중치를 주는 방식은 average를 바꾸면 됨."
   ]
  },
  {
   "cell_type": "code",
   "execution_count": null,
   "metadata": {
    "execution": {
     "iopub.execute_input": "2021-11-03T04:28:59.911895Z",
     "iopub.status.busy": "2021-11-03T04:28:59.911311Z",
     "iopub.status.idle": "2021-11-03T04:29:11.793159Z",
     "shell.execute_reply": "2021-11-03T04:29:11.793726Z"
    },
    "id": "OComOUUdgE7V",
    "outputId": "f07a89d8-3131-476a-a729-506fa11ee071"
   },
   "outputs": [
    {
     "name": "stdout",
     "output_type": "stream",
     "text": [
      "정밀도: 95.88%\n",
      "재현율: 97.89%\n"
     ]
    }
   ],
   "source": [
    "from sklearn.metrics import precision_score, recall_score\n",
    "\n",
    "X_test_transformed = preprocess_pipeline.transform(X_test)\n",
    "\n",
    "log_clf = LogisticRegression(solver=\"lbfgs\", max_iter=1000, random_state=42)\n",
    "log_clf.fit(X_train_transformed, y_train)\n",
    "\n",
    "y_pred = log_clf.predict(X_test_transformed)\n",
    "\n",
    "print(\"정밀도: {:.2f}%\".format(100 * precision_score(y_test, y_pred)))\n",
    "print(\"재현율: {:.2f}%\".format(100 * recall_score(y_test, y_pred)))"
   ]
  }
 ],
 "metadata": {
  "colab": {
   "name": "03_classification.ipynb",
   "provenance": []
  },
  "kernelspec": {
   "display_name": "ML",
   "language": "python",
   "name": "ml"
  },
  "language_info": {
   "codemirror_mode": {
    "name": "ipython",
    "version": 3
   },
   "file_extension": ".py",
   "mimetype": "text/x-python",
   "name": "python",
   "nbconvert_exporter": "python",
   "pygments_lexer": "ipython3",
   "version": "3.8.11"
  },
  "nav_menu": {},
  "toc": {
   "navigate_menu": true,
   "number_sections": true,
   "sideBar": true,
   "threshold": 6,
   "toc_cell": false,
   "toc_section_display": "block",
   "toc_window_display": false
  }
 },
 "nbformat": 4,
 "nbformat_minor": 1
}
