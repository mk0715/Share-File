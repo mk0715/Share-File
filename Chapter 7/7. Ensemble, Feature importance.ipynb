{
 "cells": [
  {
   "cell_type": "markdown",
   "id": "b2bf74a7",
   "metadata": {},
   "source": [
    "*7. Random Forest & Ensemble*"
   ]
  },
  {
   "cell_type": "markdown",
   "id": "16e58233",
   "metadata": {},
   "source": [
    "---"
   ]
  },
  {
   "cell_type": "markdown",
   "id": "69f5b0bf",
   "metadata": {},
   "source": [
    "## Ensemble\n",
    "- 여러 개의 모델을 생성하고, 모델의 예측을 결합함으로써 보다 정확한 예측을 도출하는 기법\n",
    "\n",
    "-  다양한 모델을 조합하여 더 정확한 예측에 도움을 주는 방식\n",
    "\n",
    "- __일반적으로__ 앙상블은 하지 않았을 때보다 성능이 높음. 하나의 예측기와 비교하였을 때, 편향은 크고 분산은 작음\n",
    "\n",
    "- sklearn의 모델 중 단일모델처럼 보이지만 내부적으로 앙상블 기법을 사용하는 모델 존재 ex) RandomForest, XGBoost, LightGBM, 등 \n",
    "\n",
    "- 일반적으로 Voting, Averaging, Bagging, Boosting이 있음 "
   ]
  },
  {
   "cell_type": "markdown",
   "id": "5c98e85e",
   "metadata": {},
   "source": [
    "---"
   ]
  },
  {
   "cell_type": "markdown",
   "id": "d85d32ce",
   "metadata": {},
   "source": [
    "## Voting\n",
    "-  말그대로 투표하여 결과를 도출하는 방식\n",
    "\n",
    "- 개별 분류기 중 가장 뛰어난 것보다 정확도가 높을 경우가 많음\n",
    "\n",
    "|방식             |    방식_kor    | 설명|\n",
    "|-----------------|-----|-----|\n",
    "|Hard Voting |직접 투표 |'다수결'의 방법. 예측들의 결과 집계를 바탕으로 더 수가 많은 결과 도출   ex) 클래스 1로 예측한 모델이 5, 0으로 예측한 모델이 1이면 최종 결과는 클래스 1 \n",
    "|Soft Voting |간접투표  |모델이 해당 class에 해당할 확률을 평균내어 결과를 도출  ex) 모델1은 클래스1에 해당할 확률을 0.6으로 예측, 모델2는 0.4로 예측하면 최종 결과는 0.5 |\n",
    "\n",
    "- <span style=\"color:red\">직접투표방식보다 간접투표 방식이 성능이 더 높음!!</span>"
   ]
  },
  {
   "cell_type": "markdown",
   "id": "99337cbf",
   "metadata": {},
   "source": [
    "---"
   ]
  },
  {
   "cell_type": "markdown",
   "id": "c6d581a5",
   "metadata": {},
   "source": [
    "## Bagging & Pasting\n",
    "![이미지](https://upload.wikimedia.org/wikipedia/commons/6/6b/Bagging.png)\n",
    "\n",
    "\n",
    ">Bagging\n",
    ">> - 같은 알고리즘을 사용하고 <span style=\"color:blue\"> 훈련세트의 서브셋을 무작위로 </span> 구성하여 model을 각각 다르게 학습 시키는 방법\n",
    ">> - 복원추출 -> 데이터를 전부 사용하지 않음 -> 남는 데이터 있음 -> oob평가\n",
    "\n",
    ">Pasting\n",
    ">> - 훈련세트에서 <span style=\"color:blue\"> 중복을 허용하지 않고 </span> 샘플링하는 방식\n",
    ">> - 비복원추출 -> 데이터를 모두 사용\n",
    "\n",
    ">obb 평가?\n",
    ">> - 배깅을 사용하면 어떠한 샘플은 여러 번 선택되고, 어떤 것은 전혀 선택되지 않은데, <span style=\"color:blue\"> 선택되지 않은 샘플을 out-of-bag. 즉, oob샘플</span>이라고 부르고, 예측기가 훈련되는 동안 oob 샘플을 사용하여 평가가 가능 \n",
    "\n",
    "### RandomForest\n",
    "- Decision Tree + Bagging = RandomForest\n",
    "- 블랙박스모형이기 때문에 설명 변수와 반응 변수의 설명력을 확보하기 어렵다는 단점\n",
    "\n",
    ">Random?\n",
    ">> - <span style=\"color:blue\">전체의 샘플에 Bagging의 방식을 사용</span>하여 random성(무작위성)을 추가해줌. 이후 학습에는 Decision Tree 알고리즘이 사용됨 .\n",
    ">> - 선택한 데이터에 대하여 각각 모든 특성을 기준으로 지니계수/엔트로피를 사용하여 불순도를 계산. 가장 불순도가 낮은 특성을 선택하여 split  -> 연산량이 많음 -> 속도가 더 걸림\n",
    ">> - Decision Tree 알고리즘의 단점이었던 <span style=\"color:blue\">과적합 문제를 random성을 추가해줌으로 인하여 완화</span>\n",
    "\n",
    ">변수중요도\n",
    ">> - Ramdom Forest의 장점 중 하나는 <span style=\"color:blue\">특성의 중요도를 측정하기 쉽다</span>는 것\n",
    ">> - 특성을 선택해야 할 때, 변수의 중요도를 빠르게 확인할 수 있어서 좋음\n",
    ">> - 이 부분은 추가로 정리 필요\n",
    "\n",
    "### Extra tree (Extremely randomized tree)\n",
    "- RandomForest + 무작위성(Random) = Extra Tree\n",
    "- 극도로 random한 알고리즘\n",
    ">Extreme?\n",
    ">> - Random Forest에 더해서 특성을 선택하는 것 또한 random으로 선택.\n",
    ">> - 극도로(Extreme) random한 모델\n",
    ">> - Extra Trees가 Random Forest에 비해 <span style=\"color:blue\">Bias를 낮출 수 있고</span>, Split Point를 Random하게 선택하면서 <span style=\"color:blue\">Variance를 줄일 수 있음.</span>\n",
    ">> - 특성을 선택하는 것도 random. 즉, <span style=\"color:blue\">연산량이 적고 속도가 빠름 연산 속도를 약 1/3로 줄일 수 있음</span>"
   ]
  },
  {
   "cell_type": "markdown",
   "id": "3dee6eec",
   "metadata": {},
   "source": [
    "---"
   ]
  },
  {
   "cell_type": "markdown",
   "id": "533e90ad",
   "metadata": {},
   "source": [
    "## Boosting\n",
    "![이미지](https://upload.wikimedia.org/wikipedia/commons/b/b1/Boosting.png) \n",
    "- 모든 데이터를 사용하여 학습. \n",
    "- 앞의 모델을 보완해나가면서 하나의 예측기를 학습하는 알고리즘\n",
    "\n",
    "### Adaboost\n",
    "- 이전 모델이 <span style=\"color:blue\">과소 적합했던 훈련 샘플의 가중치를 더 높</span>이는 방식 기반\n",
    "- '가중치'를 기반으로 모델이 처음 훈련에서 잘 학습하지 못했던 샘플의 가중치를 올려서 다음 훈련에서 잘 학습할 수 있도록 함.\n",
    "- <span style=\"color:blue\">성능이 좋았던 예측기에는 높은 가중치</span>를 두어 결과를 냄\n",
    "- 모든 예측기의 훈련이 마무리되면 배깅, 페이스팅과 비슷한 방식으로 예측을 만듦. 하지만 정확도에 따라 가중치를 둠\n",
    "- 최종 예측 시 모든 예측기의 결과를 계산하고 예측기에 가중치를 더해 예측 결과를 만들고, <span style=\"color:blue\">가중치의 합이 가장 큰 클래스가 예측 결과가 됨</span>\n",
    "-  모델들을 병렬화할 수 없기 때문에 배깅이나 페이스팅만큼 확장성이 좋지는 않음\n",
    "\n",
    "### Gradient Boosting\n",
    "- Gradient Boosting는 이전 예측기가 만든 잔여 오차를 학습시키는 알고리즘\n",
    "- 간단한(depth가 작은) Decisiontree모델을 생성한 후, 생기는 오차에 대하여 다른 모델로 학습을 시키는 과정을 반복\n",
    "- 트리가 앙상블에 추가될수록 앙상블의 예측이 점차 좋아짐"
   ]
  },
  {
   "cell_type": "markdown",
   "id": "d89bbd4c",
   "metadata": {},
   "source": [
    "---"
   ]
  },
  {
   "cell_type": "markdown",
   "id": "b7fe59db",
   "metadata": {},
   "source": [
    "## Feature importance"
   ]
  },
  {
   "cell_type": "markdown",
   "id": "fab7bc54",
   "metadata": {},
   "source": [
    "### 1.MDI(Mean Decrease in Impurity) Importance\n",
    "- 특성을 기준으로 샘플들을 spit할 때, 불순도가 감소하는 양을 바탕으로 Feature importance를 구하는 방식\n",
    "- 즉, 불순도 감소가 클경우 중요한 변수라고 판단\n",
    "- sklearn의 default로 내장되어있음"
   ]
  },
  {
   "cell_type": "markdown",
   "id": "125ca50c",
   "metadata": {},
   "source": [
    "|          장점    |                              단점                               |\n",
    "|:------------------:|:-----------------------------------------------------------------:|\n",
    "|빠르고 직관적이다.|과적합에 취약하고, high-cardinality 범주형 변수에 대해서는 편향됨|\n",
    "\n",
    "> cardinality?\n",
    ">> - cardinality는 중복도와 연관지어 생각하면 이해가 편함.\n",
    ">> - 중복도가 높으면 cardinality는 낮고, 중복도가 낮으면 cardinality가 높다. 즉 데이터들이 가진 분산이라고 생각하면 편함\n",
    "\n",
    "> DecisionTree의 Feature importance\n",
    ">> - CART 알고리즘은 중요하지 않은 변수는 제거해버리는 특성이 있음. 따라서 DecisionTree로 변수 중요도를 확인하면 중요도가 0인 변수가 생김\n",
    ">> - 즉, 모든 변수에 대한 변수 중요도를 확인할 수 없다는 단점이 있음\n",
    ">> - 하지만 RandomForest는 이러한 단점을 보완함\n",
    "\n",
    "> RandomForest의 Feature importance -> 현재 sklearn의 MDI는 RF를 기본으로 사용하고 있으나, RF가 MDI방식에서만 쓰이는 것은 아님\n",
    ">> - RandomForest는 Bagging기반으로 학습됨. 자세한 내용은 아래에\n",
    ">> - 1.데이터를 비복원 추출하여 여러개의 데이터셋이 생성되고, \n",
    ">> - 2.각각의 데이터셋의 변수에 대한 중요도를 구함. \n",
    ">> - 3.이 변수 중요도들의 평균으로 최종 Feature importance를 구함\n",
    "- 즉, DecisionTree와 다르게 모든 변수에 대한 중요도를 확인할 수 있게됨.\n",
    "- 하지만 이런 MDI방식에도 단점이 존재함"
   ]
  },
  {
   "cell_type": "markdown",
   "id": "827f02da",
   "metadata": {},
   "source": [
    "#### MDI방식의 단점\n",
    "- MDI방식은 Tree계열 모델을 사용하기 때문에 모델이 train set에 과적합될 수 있다는 단점이 있다. 즉, test set에서는 중요하지 않은 변수이지만 train set에서는 중요한 변수로 인식됨.\n",
    "- 우리가 공부했듯, tree계열 모델은 variance는 낮으나 bias가 높다. 따라서 연속형변수(중복도가 낮음. 즉,high cardinality) 또는 high cardinality 범주형 변수인 경우 중요도가 부풀려짐\n",
    "- 많이 찾아보았으나, high cardinality인 경우 split할 것이 많기 때문이라고 추정함"
   ]
  },
  {
   "cell_type": "markdown",
   "id": "5fccd847",
   "metadata": {},
   "source": [
    "### 2. Permutation importance\n",
    "- 독립변수의 중요도를 판단하는 방법\n",
    "- 변수들의 상호관계는 고려하지 않음\n",
    "- 변수들간의 상관관계가 높으면 해당 변수의 중요도가 높게 평가되는 경우가 있기 때문에 변수들의 상관관계를 확인하는 것이 필요"
   ]
  },
  {
   "cell_type": "markdown",
   "id": "f00edf15",
   "metadata": {},
   "source": [
    "### 참고\n",
    "[변수중요도1](https://velog.io/@vvakki_/%EB%9E%9C%EB%8D%A4-%ED%8F%AC%EB%A0%88%EC%8A%A4%ED%8A%B8%EC%97%90%EC%84%9C%EC%9D%98-%EB%B3%80%EC%88%98-%EC%A4%91%EC%9A%94%EB%8F%84Variable-Importance-3%EA%B0%80%EC%A7%80)\n",
    "\n",
    "[변수중요도2](https://soohee410.github.io/iml_tree_importance)\n",
    "\n",
    "[extra tree](https://wyatt37.tistory.com/m/6)\n",
    "\n",
    "\n",
    "### 그림 출처\n",
    "[Bagging](https://id.wikipedia.org/wiki/Berkas:Bagging.png)\n",
    "\n",
    "[Boosting](https://upload.wikimedia.org/wikipedia/commons/b/b1/Boosting.png)"
   ]
  },
  {
   "cell_type": "markdown",
   "id": "5fbe13c6",
   "metadata": {},
   "source": [
    "---"
   ]
  },
  {
   "cell_type": "markdown",
   "id": "78e6a476",
   "metadata": {},
   "source": [
    "## Code "
   ]
  },
  {
   "cell_type": "markdown",
   "id": "9b3c5504",
   "metadata": {},
   "source": [
    "### 타이타닉 데이터에 적용"
   ]
  },
  {
   "cell_type": "code",
   "execution_count": 1,
   "id": "7fe0e02e",
   "metadata": {},
   "outputs": [],
   "source": [
    "# 모듈 불러오기\n",
    "import pandas as pd\n",
    "import numpy as np\n",
    "import matplotlib.pyplot as plt\n",
    "from tqdm import tqdm_notebook\n",
    "from sklearn.model_selection import train_test_split\n",
    "from sklearn.tree import DecisionTreeClassifier\n",
    "\n",
    "# Waeing\n",
    "import sys, warnings\n",
    "if not sys.warnoptions: warnings.simplefilter(\"ignore\")\n",
    "    \n",
    "#matplotlib 한글깨짐 지원\n",
    "import platform\n",
    "from matplotlib import font_manager, rc\n",
    "path = \"c:/Windows/Fonts/malgun.ttf\"\n",
    "if platform.system() == 'Darwin':\n",
    "    rc('font', family='AppleGothic')\n",
    "elif platform.system() == 'Windows':\n",
    "    font_name = font_manager.FontProperties(fname=path).get_name()\n",
    "    rc('font', family=font_name)\n",
    "else:\n",
    "    print('Unknown system...')\n",
    "rc('axes', unicode_minus=False) "
   ]
  },
  {
   "cell_type": "markdown",
   "id": "39c6bccd",
   "metadata": {},
   "source": [
    "- 데이터 불러오기"
   ]
  },
  {
   "cell_type": "code",
   "execution_count": 2,
   "id": "416e18f0",
   "metadata": {
    "execution": {
     "iopub.execute_input": "2021-11-03T04:28:14.457532Z",
     "iopub.status.busy": "2021-11-03T04:28:14.456518Z",
     "iopub.status.idle": "2021-11-03T04:28:14.467409Z",
     "shell.execute_reply": "2021-11-03T04:28:14.466907Z"
    },
    "id": "qUXYtuzjgE7G"
   },
   "outputs": [],
   "source": [
    "# 데이터 불러오기\n",
    "path = './datasets/titanic/'\n",
    "train = pd.read_csv(path+'train.csv', index_col='PassengerId') # `PassengerId` 열을 인덱스 열로 지정\n",
    "test = pd.read_csv(path+'test.csv', index_col='PassengerId')"
   ]
  },
  {
   "cell_type": "code",
   "execution_count": 3,
   "id": "a68da73a",
   "metadata": {},
   "outputs": [
    {
     "data": {
      "text/html": [
       "<div>\n",
       "<style scoped>\n",
       "    .dataframe tbody tr th:only-of-type {\n",
       "        vertical-align: middle;\n",
       "    }\n",
       "\n",
       "    .dataframe tbody tr th {\n",
       "        vertical-align: top;\n",
       "    }\n",
       "\n",
       "    .dataframe thead th {\n",
       "        text-align: right;\n",
       "    }\n",
       "</style>\n",
       "<table border=\"1\" class=\"dataframe\">\n",
       "  <thead>\n",
       "    <tr style=\"text-align: right;\">\n",
       "      <th></th>\n",
       "      <th>Survived</th>\n",
       "      <th>Pclass</th>\n",
       "      <th>Name</th>\n",
       "      <th>Sex</th>\n",
       "      <th>Age</th>\n",
       "      <th>SibSp</th>\n",
       "      <th>Parch</th>\n",
       "      <th>Ticket</th>\n",
       "      <th>Fare</th>\n",
       "      <th>Cabin</th>\n",
       "      <th>Embarked</th>\n",
       "    </tr>\n",
       "    <tr>\n",
       "      <th>PassengerId</th>\n",
       "      <th></th>\n",
       "      <th></th>\n",
       "      <th></th>\n",
       "      <th></th>\n",
       "      <th></th>\n",
       "      <th></th>\n",
       "      <th></th>\n",
       "      <th></th>\n",
       "      <th></th>\n",
       "      <th></th>\n",
       "      <th></th>\n",
       "    </tr>\n",
       "  </thead>\n",
       "  <tbody>\n",
       "    <tr>\n",
       "      <th>1</th>\n",
       "      <td>0</td>\n",
       "      <td>3</td>\n",
       "      <td>Braund, Mr. Owen Harris</td>\n",
       "      <td>male</td>\n",
       "      <td>22.0</td>\n",
       "      <td>1</td>\n",
       "      <td>0</td>\n",
       "      <td>A/5 21171</td>\n",
       "      <td>7.2500</td>\n",
       "      <td>NaN</td>\n",
       "      <td>S</td>\n",
       "    </tr>\n",
       "    <tr>\n",
       "      <th>2</th>\n",
       "      <td>1</td>\n",
       "      <td>1</td>\n",
       "      <td>Cumings, Mrs. John Bradley (Florence Briggs Th...</td>\n",
       "      <td>female</td>\n",
       "      <td>38.0</td>\n",
       "      <td>1</td>\n",
       "      <td>0</td>\n",
       "      <td>PC 17599</td>\n",
       "      <td>71.2833</td>\n",
       "      <td>C85</td>\n",
       "      <td>C</td>\n",
       "    </tr>\n",
       "    <tr>\n",
       "      <th>3</th>\n",
       "      <td>1</td>\n",
       "      <td>3</td>\n",
       "      <td>Heikkinen, Miss. Laina</td>\n",
       "      <td>female</td>\n",
       "      <td>26.0</td>\n",
       "      <td>0</td>\n",
       "      <td>0</td>\n",
       "      <td>STON/O2. 3101282</td>\n",
       "      <td>7.9250</td>\n",
       "      <td>NaN</td>\n",
       "      <td>S</td>\n",
       "    </tr>\n",
       "    <tr>\n",
       "      <th>4</th>\n",
       "      <td>1</td>\n",
       "      <td>1</td>\n",
       "      <td>Futrelle, Mrs. Jacques Heath (Lily May Peel)</td>\n",
       "      <td>female</td>\n",
       "      <td>35.0</td>\n",
       "      <td>1</td>\n",
       "      <td>0</td>\n",
       "      <td>113803</td>\n",
       "      <td>53.1000</td>\n",
       "      <td>C123</td>\n",
       "      <td>S</td>\n",
       "    </tr>\n",
       "    <tr>\n",
       "      <th>5</th>\n",
       "      <td>0</td>\n",
       "      <td>3</td>\n",
       "      <td>Allen, Mr. William Henry</td>\n",
       "      <td>male</td>\n",
       "      <td>35.0</td>\n",
       "      <td>0</td>\n",
       "      <td>0</td>\n",
       "      <td>373450</td>\n",
       "      <td>8.0500</td>\n",
       "      <td>NaN</td>\n",
       "      <td>S</td>\n",
       "    </tr>\n",
       "    <tr>\n",
       "      <th>...</th>\n",
       "      <td>...</td>\n",
       "      <td>...</td>\n",
       "      <td>...</td>\n",
       "      <td>...</td>\n",
       "      <td>...</td>\n",
       "      <td>...</td>\n",
       "      <td>...</td>\n",
       "      <td>...</td>\n",
       "      <td>...</td>\n",
       "      <td>...</td>\n",
       "      <td>...</td>\n",
       "    </tr>\n",
       "    <tr>\n",
       "      <th>887</th>\n",
       "      <td>0</td>\n",
       "      <td>2</td>\n",
       "      <td>Montvila, Rev. Juozas</td>\n",
       "      <td>male</td>\n",
       "      <td>27.0</td>\n",
       "      <td>0</td>\n",
       "      <td>0</td>\n",
       "      <td>211536</td>\n",
       "      <td>13.0000</td>\n",
       "      <td>NaN</td>\n",
       "      <td>S</td>\n",
       "    </tr>\n",
       "    <tr>\n",
       "      <th>888</th>\n",
       "      <td>1</td>\n",
       "      <td>1</td>\n",
       "      <td>Graham, Miss. Margaret Edith</td>\n",
       "      <td>female</td>\n",
       "      <td>19.0</td>\n",
       "      <td>0</td>\n",
       "      <td>0</td>\n",
       "      <td>112053</td>\n",
       "      <td>30.0000</td>\n",
       "      <td>B42</td>\n",
       "      <td>S</td>\n",
       "    </tr>\n",
       "    <tr>\n",
       "      <th>889</th>\n",
       "      <td>0</td>\n",
       "      <td>3</td>\n",
       "      <td>Johnston, Miss. Catherine Helen \"Carrie\"</td>\n",
       "      <td>female</td>\n",
       "      <td>NaN</td>\n",
       "      <td>1</td>\n",
       "      <td>2</td>\n",
       "      <td>W./C. 6607</td>\n",
       "      <td>23.4500</td>\n",
       "      <td>NaN</td>\n",
       "      <td>S</td>\n",
       "    </tr>\n",
       "    <tr>\n",
       "      <th>890</th>\n",
       "      <td>1</td>\n",
       "      <td>1</td>\n",
       "      <td>Behr, Mr. Karl Howell</td>\n",
       "      <td>male</td>\n",
       "      <td>26.0</td>\n",
       "      <td>0</td>\n",
       "      <td>0</td>\n",
       "      <td>111369</td>\n",
       "      <td>30.0000</td>\n",
       "      <td>C148</td>\n",
       "      <td>C</td>\n",
       "    </tr>\n",
       "    <tr>\n",
       "      <th>891</th>\n",
       "      <td>0</td>\n",
       "      <td>3</td>\n",
       "      <td>Dooley, Mr. Patrick</td>\n",
       "      <td>male</td>\n",
       "      <td>32.0</td>\n",
       "      <td>0</td>\n",
       "      <td>0</td>\n",
       "      <td>370376</td>\n",
       "      <td>7.7500</td>\n",
       "      <td>NaN</td>\n",
       "      <td>Q</td>\n",
       "    </tr>\n",
       "  </tbody>\n",
       "</table>\n",
       "<p>891 rows × 11 columns</p>\n",
       "</div>"
      ],
      "text/plain": [
       "             Survived  Pclass  \\\n",
       "PassengerId                     \n",
       "1                   0       3   \n",
       "2                   1       1   \n",
       "3                   1       3   \n",
       "4                   1       1   \n",
       "5                   0       3   \n",
       "...               ...     ...   \n",
       "887                 0       2   \n",
       "888                 1       1   \n",
       "889                 0       3   \n",
       "890                 1       1   \n",
       "891                 0       3   \n",
       "\n",
       "                                                          Name     Sex   Age  \\\n",
       "PassengerId                                                                    \n",
       "1                                      Braund, Mr. Owen Harris    male  22.0   \n",
       "2            Cumings, Mrs. John Bradley (Florence Briggs Th...  female  38.0   \n",
       "3                                       Heikkinen, Miss. Laina  female  26.0   \n",
       "4                 Futrelle, Mrs. Jacques Heath (Lily May Peel)  female  35.0   \n",
       "5                                     Allen, Mr. William Henry    male  35.0   \n",
       "...                                                        ...     ...   ...   \n",
       "887                                      Montvila, Rev. Juozas    male  27.0   \n",
       "888                               Graham, Miss. Margaret Edith  female  19.0   \n",
       "889                   Johnston, Miss. Catherine Helen \"Carrie\"  female   NaN   \n",
       "890                                      Behr, Mr. Karl Howell    male  26.0   \n",
       "891                                        Dooley, Mr. Patrick    male  32.0   \n",
       "\n",
       "             SibSp  Parch            Ticket     Fare Cabin Embarked  \n",
       "PassengerId                                                          \n",
       "1                1      0         A/5 21171   7.2500   NaN        S  \n",
       "2                1      0          PC 17599  71.2833   C85        C  \n",
       "3                0      0  STON/O2. 3101282   7.9250   NaN        S  \n",
       "4                1      0            113803  53.1000  C123        S  \n",
       "5                0      0            373450   8.0500   NaN        S  \n",
       "...            ...    ...               ...      ...   ...      ...  \n",
       "887              0      0            211536  13.0000   NaN        S  \n",
       "888              0      0            112053  30.0000   B42        S  \n",
       "889              1      2        W./C. 6607  23.4500   NaN        S  \n",
       "890              0      0            111369  30.0000  C148        C  \n",
       "891              0      0            370376   7.7500   NaN        Q  \n",
       "\n",
       "[891 rows x 11 columns]"
      ]
     },
     "execution_count": 3,
     "metadata": {},
     "output_type": "execute_result"
    }
   ],
   "source": [
    "train"
   ]
  },
  {
   "cell_type": "markdown",
   "id": "d876ca02",
   "metadata": {},
   "source": [
    "- 간단한 전처리"
   ]
  },
  {
   "cell_type": "code",
   "execution_count": 4,
   "id": "d388440a",
   "metadata": {},
   "outputs": [],
   "source": [
    "# encoder 함수 지정\n",
    "def encoder(data, kind):\n",
    "    # 범주형 변수와 수치형 변수를 분리\n",
    "    cat_features = data.select_dtypes(include=['object']).columns.to_list()\n",
    "    num_features = data.select_dtypes(exclude='object').columns.to_list() \n",
    "    if kind == 'onehot':\n",
    "        # 원핫인코딩\n",
    "        data_cat = pd.get_dummies(data[cat_features])\n",
    "        data = pd.concat([data,data_cat],axis=1).drop(columns=[f for f in cat_features])\n",
    "        return data\n",
    "    elif kind == 'label':\n",
    "        # 라벨인코딩\n",
    "        for c in cat_features:\n",
    "            data[c]=pd.Categorical(data[c]).codes\n",
    "        return data\n",
    "    else:\n",
    "        print('choose \"onehot\"or \"label\"')\n",
    "# 인코딩\n",
    "train = encoder(train, 'label')\n",
    "test = encoder(test, 'label')"
   ]
  },
  {
   "cell_type": "code",
   "execution_count": 5,
   "id": "906ce84a",
   "metadata": {},
   "outputs": [],
   "source": [
    "# 간단한 결측값 처리\n",
    "## train\n",
    "train['Age'] = train['Age'].fillna(train['Age'].mode()[0])\n",
    "## test\n",
    "test['Age'] = test['Age'].fillna(test['Age'].mode()[0])\n",
    "test['Fare'] = test['Fare'].fillna(test['Fare'].mode()[0])"
   ]
  },
  {
   "cell_type": "code",
   "execution_count": 6,
   "id": "14b88b7e",
   "metadata": {},
   "outputs": [],
   "source": [
    "# 데이터를 학습과 검증으로 분리\n",
    "x_train, x_valid, y_train, y_valid = train_test_split(train.iloc[:,1:], train.iloc[:,0], test_size=0.2)"
   ]
  },
  {
   "cell_type": "markdown",
   "id": "e380e761",
   "metadata": {},
   "source": [
    "- Voting"
   ]
  },
  {
   "cell_type": "code",
   "execution_count": 7,
   "id": "c60e145d",
   "metadata": {},
   "outputs": [],
   "source": [
    "from sklearn.ensemble import RandomForestClassifier\n",
    "from sklearn.ensemble import VotingClassifier\n",
    "from sklearn.linear_model import LogisticRegression\n",
    "from sklearn.svm import SVC\n",
    "\n",
    "log_clf = LogisticRegression(solver=\"lbfgs\", random_state=42)\n",
    "rnd_clf = RandomForestClassifier(n_estimators=100, random_state=42)\n",
    "svm_clf = SVC(gamma=\"scale\", \n",
    "              probability=True, # predict_proba의 효과를 얻기 위함 \n",
    "              random_state=42)\n",
    "\n",
    "# voting 모델 선언 Hard\n",
    "voting_clf_hard = VotingClassifier(\n",
    "    estimators=[('lr', log_clf), ('rf', rnd_clf), ('svc', svm_clf)],\n",
    "    voting='hard')\n",
    "# voting 모델 선언 Soft\n",
    "voting_clf_soft = VotingClassifier(\n",
    "    estimators=[('lr', log_clf), ('rf', rnd_clf), ('svc', svm_clf)],\n",
    "    voting='soft')"
   ]
  },
  {
   "cell_type": "code",
   "execution_count": 9,
   "id": "e2c0f105",
   "metadata": {},
   "outputs": [
    {
     "name": "stdout",
     "output_type": "stream",
     "text": [
      "LogisticRegression 0.7932960893854749\n",
      "RandomForestClassifier 0.8547486033519553\n",
      "SVC 0.6424581005586593\n",
      "VotingClassifier 0.8044692737430168\n",
      "VotingClassifier 0.8379888268156425\n"
     ]
    }
   ],
   "source": [
    "# score 확인 -> 이경우는 voting이 떨어짐 -> SVC의 성능이 너무 안좋기 때문으로 추정\n",
    "## hard 보다 soft의 성능이 더 좋음\n",
    "from sklearn.metrics import accuracy_score\n",
    "\n",
    "# fitting\n",
    "voting_clf_hard.fit(x_train, y_train)\n",
    "voting_clf_soft.fit(x_train, y_train)\n",
    "\n",
    "# 확인\n",
    "for clf in (log_clf, rnd_clf, svm_clf, voting_clf_hard, voting_clf_soft):\n",
    "    clf.fit(x_train, y_train)\n",
    "    y_pred = clf.predict(x_valid)\n",
    "    print(clf.__class__.__name__, accuracy_score(y_valid, y_pred))"
   ]
  },
  {
   "cell_type": "markdown",
   "id": "6007e92c",
   "metadata": {},
   "source": [
    "- Bagging & Pasting\n",
    ">BaggingClassifier는 predict_proba() 함수가 있으면 자동으로 soft voting을 함 -> 성능이 더 좋기때문"
   ]
  },
  {
   "cell_type": "code",
   "execution_count": 10,
   "id": "d4b5c504",
   "metadata": {},
   "outputs": [],
   "source": [
    "from sklearn.ensemble import BaggingClassifier\n",
    "from sklearn.tree import DecisionTreeClassifier\n",
    "\n",
    "# Bagging model 선언\n",
    "bag_clf = BaggingClassifier(\n",
    "    DecisionTreeClassifier(), n_estimators=500, # 예측기를 몇개 사용할지\n",
    "    max_samples=100, # 무작위로 몇개의 샘플을 선택할 것인지\n",
    "    bootstrap=True, # 중복을 허용할것인지 아닌지. True로 놓으면 bagging False로 놓으면 Pasting\n",
    "    random_state=42, \n",
    "    n_jobs=-1) # 훈련과 예측에 사용할 cpu수 -1은 최대\n",
    "\n",
    "# fitting\n",
    "bag_clf.fit(x_train, y_train)\n",
    "# 예측값\n",
    "y_pred = bag_clf.predict(x_valid)\n",
    "# 비교를 위해 트리 단일모델 선언\n",
    "tree_clf = DecisionTreeClassifier(random_state=42)\n",
    "tree_clf.fit(x_train, y_train)\n",
    "y_pred_tree = tree_clf.predict(x_valid)"
   ]
  },
  {
   "cell_type": "code",
   "execution_count": 11,
   "id": "386ba7c4",
   "metadata": {},
   "outputs": [
    {
     "name": "stdout",
     "output_type": "stream",
     "text": [
      "Bagging: 0.8435754189944135\n",
      "  DT:    0.7932960893854749\n"
     ]
    }
   ],
   "source": [
    "# score 확인\n",
    "from sklearn.metrics import accuracy_score\n",
    "print(f'Bagging: {accuracy_score(y_valid, y_pred)}')\n",
    "print(f'  DT:    {accuracy_score(y_valid, y_pred_tree)}')"
   ]
  },
  {
   "cell_type": "markdown",
   "id": "0437b622",
   "metadata": {},
   "source": [
    "> - 단일모델 성능이 좋았던 RF를 Bagging하면 성능이 더 좋지 않을까? 라는 의문을 갖고 진행해 보았으나 시간도 오래걸리고 성능도 .77로 좋지 않음\n",
    "> - Pasting: 0.8156424581005587\n",
    ">> - <span style=\"color:blue\">일반적으로 배깅이 더 나은 모델을 만들기 때문에 더 선호</span>\n",
    ">> - 하지만 cpu 파워에 여유가 있다면 <span style=\"color:blue\">교차검증으로 모두 평가하여 더 나은쪽을 선택하는것이 좋음</span>"
   ]
  },
  {
   "cell_type": "code",
   "execution_count": 12,
   "id": "68f234e8",
   "metadata": {},
   "outputs": [
    {
     "name": "stdout",
     "output_type": "stream",
     "text": [
      "Pasting: 0.8491620111731844\n"
     ]
    }
   ],
   "source": [
    "# Bagging model 선언\n",
    "bag_clf = BaggingClassifier(\n",
    "    DecisionTreeClassifier(), n_estimators=500, # 예측기를 몇개 사용할지\n",
    "    max_samples=100, # 무작위로 몇개의 샘플을 선택할 것인지\n",
    "    bootstrap=False, # True로 놓으면 bagging False로 놓으면 Pasting\n",
    "    random_state=42, \n",
    "    n_jobs=-1) # 훈련과 예측에 사용할 cpu수 -1은 최대\n",
    "\n",
    "# fitting\n",
    "bag_clf.fit(x_train, y_train)\n",
    "# 예측값\n",
    "y_pred = bag_clf.predict(x_valid)\n",
    "\n",
    "# score 확인\n",
    "from sklearn.metrics import accuracy_score\n",
    "print(f'Pasting: {accuracy_score(y_valid, y_pred)}')"
   ]
  },
  {
   "cell_type": "markdown",
   "id": "466f36f2",
   "metadata": {},
   "source": [
    "- Eandom Forest & Extratree"
   ]
  },
  {
   "cell_type": "markdown",
   "id": "be1b1341",
   "metadata": {},
   "source": [
    "- oob 평가"
   ]
  },
  {
   "cell_type": "code",
   "execution_count": 13,
   "id": "96b86976",
   "metadata": {},
   "outputs": [
    {
     "name": "stdout",
     "output_type": "stream",
     "text": [
      "extra_tree: 0.8324022346368715\n",
      "random_forest: 0.8547486033519553\n"
     ]
    }
   ],
   "source": [
    "from sklearn.ensemble import ExtraTreesClassifier\n",
    "from sklearn.ensemble import RandomForestClassifier\n",
    "\n",
    "# 모델 선언\n",
    "extra_tree = ExtraTreesClassifier(n_estimators=100, random_state=42)\n",
    "random_forest = RandomForestClassifier(n_estimators=100, random_state=42)\n",
    "\n",
    "# fitting\n",
    "extra_tree.fit(x_train, y_train)\n",
    "random_forest.fit(x_train, y_train)\n",
    "\n",
    "# 예측값\n",
    "y_pred_extra_tree = extra_tree.predict(x_valid)\n",
    "y_pred_random_forest = random_forest.predict(x_valid)\n",
    "\n",
    "# 확인\n",
    "print(f'extra_tree: {accuracy_score(y_valid, y_pred_extra_tree)}')\n",
    "print(f'random_forest: {accuracy_score(y_valid, y_pred_random_forest)}')"
   ]
  },
  {
   "cell_type": "code",
   "execution_count": 15,
   "id": "457c8359",
   "metadata": {},
   "outputs": [
    {
     "data": {
      "text/plain": [
       "0.8258426966292135"
      ]
     },
     "execution_count": 15,
     "metadata": {},
     "output_type": "execute_result"
    }
   ],
   "source": [
    "# model선언 및 oob평가 -> 추가로 학습하지 않아도 된다는 장점이 있음 -> 시간이 빠름\n",
    "bag_clf = BaggingClassifier(\n",
    "    DecisionTreeClassifier(), n_estimators=500,\n",
    "    bootstrap=True, oob_score=True, random_state=40)\n",
    "bag_clf.fit(x_train, y_train)\n",
    "bag_clf.oob_score_"
   ]
  },
  {
   "cell_type": "markdown",
   "id": "bbbcd2fb",
   "metadata": {},
   "source": [
    "- 변수중요도 DT와 RF의 비교"
   ]
  },
  {
   "cell_type": "code",
   "execution_count": 17,
   "id": "0c64eef5",
   "metadata": {},
   "outputs": [],
   "source": [
    "random_forest = RandomForestClassifier(n_estimators=100, random_state=42)\n",
    "decision_tree = DecisionTreeClassifier(random_state=42)"
   ]
  },
  {
   "cell_type": "code",
   "execution_count": 18,
   "id": "b89c57c1",
   "metadata": {},
   "outputs": [
    {
     "data": {
      "image/png": "[encoded data removed]",
      "text/plain": [
       "<Figure size 1440x1080 with 2 Axes>"
      ]
     },
     "metadata": {
      "needs_background": "light"
     },
     "output_type": "display_data"
    }
   ],
   "source": [
    "# fitting\n",
    "decision_tree.fit(x_train, y_train)\n",
    "random_forest.fit(x_train, y_train)\n",
    "\n",
    "# 변수의 중요도를 시각적으로 확인 비교\n",
    "## decision tree\n",
    "feature_importance_dt = decision_tree.feature_importances_\n",
    "## random forest\n",
    "feature_importance_rf = random_forest.feature_importances_\n",
    "#동일하게 처리\n",
    "feature_name = list(train.columns)[1:] # target값 지워줌\n",
    "n_feature = x_train.shape[1]\n",
    "idx = np.arange(n_feature)\n",
    "\n",
    "#dt\n",
    "plt.figure(figsize=(20,15))\n",
    "plt.subplot(2, 2, 1)\n",
    "plt.bar(idx,feature_importance_dt)\n",
    "plt.title('DecisionTree Feature Importance', fontsize=20)\n",
    "plt.xticks(rotation=90) #x축 값 세로로 변경\n",
    "plt.xticks(idx, feature_name, fontsize=15)\n",
    "plt.xlabel('feature', size=15)\n",
    "plt.ylabel('feature importance', size=15)\n",
    "# rf\n",
    "plt.subplot(2, 2, 2)\n",
    "plt.bar(idx,feature_importance_rf)\n",
    "plt.title('RandomFroest Feature Importance', fontsize=20)\n",
    "plt.xticks(rotation=90) #x축 값 세로로 변경\n",
    "plt.xticks(idx, feature_name, fontsize=15)\n",
    "plt.xlabel('feature', size=15)\n",
    "plt.ylabel('feature importance', size=15)\n",
    "\n",
    "plt.show()"
   ]
  },
  {
   "cell_type": "markdown",
   "id": "ac6aebc1",
   "metadata": {},
   "source": [
    "- Boosting"
   ]
  },
  {
   "cell_type": "code",
   "execution_count": 19,
   "id": "04779139",
   "metadata": {},
   "outputs": [
    {
     "name": "stdout",
     "output_type": "stream",
     "text": [
      "Adaboost: 0.8435754189944135\n"
     ]
    }
   ],
   "source": [
    "# Adaboost\n",
    "from sklearn.ensemble import AdaBoostClassifier\n",
    "\n",
    "ada_clf = AdaBoostClassifier(\n",
    "    DecisionTreeClassifier(max_depth=1),\n",
    "    n_estimators=200, # 예측기를 몇개 쓸것인가 -> 과적합시 수를 줄이는 것이 조움이 됨\n",
    "    algorithm=\"SAMME.R\", \n",
    "    learning_rate=0.5, \n",
    "    random_state=42)\n",
    "ada_clf.fit(x_train, y_train)\n",
    "\n",
    "# 예측값\n",
    "y_pred = ada_clf.predict(x_valid)\n",
    "\n",
    "# 확인\n",
    "print(f'Adaboost: {accuracy_score(y_valid, y_pred)}')"
   ]
  },
  {
   "cell_type": "code",
   "execution_count": 20,
   "id": "d9066fcc",
   "metadata": {},
   "outputs": [
    {
     "name": "stdout",
     "output_type": "stream",
     "text": [
      "GB: 0.8491620111731844\n"
     ]
    }
   ],
   "source": [
    "# Gradient boost\n",
    "from sklearn.ensemble import GradientBoostingClassifier\n",
    "\n",
    "gb = GradientBoostingClassifier(n_estimators=1000, # 파라미터 튜닝에 따라 결과 달라짐\n",
    "                                learning_rate=0.05, # 파라미터 튜닝에 따라 결과 달라짐\n",
    "                                max_depth=1, \n",
    "                                random_state=0).fit(x_train, y_train)\n",
    "\n",
    "# 예측값\n",
    "y_pred = gb.predict(x_valid)\n",
    "\n",
    "# 확인\n",
    "print(f'GB: {accuracy_score(y_valid, y_pred)}')"
   ]
  },
  {
   "cell_type": "markdown",
   "id": "ce9f7913",
   "metadata": {},
   "source": [
    "## END"
   ]
  }
 ],
 "metadata": {
  "kernelspec": {
   "display_name": "ML",
   "language": "python",
   "name": "ml"
  },
  "language_info": {
   "codemirror_mode": {
    "name": "ipython",
    "version": 3
   },
   "file_extension": ".py",
   "mimetype": "text/x-python",
   "name": "python",
   "nbconvert_exporter": "python",
   "pygments_lexer": "ipython3",
   "version": "3.8.11"
  }
 },
 "nbformat": 4,
 "nbformat_minor": 5
}
